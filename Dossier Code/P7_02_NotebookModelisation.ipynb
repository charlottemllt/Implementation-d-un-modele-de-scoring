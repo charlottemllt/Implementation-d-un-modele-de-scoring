{
 "cells": [
  {
   "cell_type": "code",
   "execution_count": 1,
   "id": "6b48e5ae",
   "metadata": {},
   "outputs": [],
   "source": [
    "import numpy as np\n",
    "import pandas as pd\n",
    "import matplotlib.pyplot as plt\n",
    "import seaborn as sns\n",
    "\n",
    "from sklearn.model_selection import train_test_split, RepeatedStratifiedKFold, GridSearchCV\n",
    "from sklearn.impute import SimpleImputer\n",
    "from sklearn.preprocessing import RobustScaler\n",
    "from sklearn.dummy import DummyClassifier\n",
    "from sklearn.ensemble import RandomForestClassifier\n",
    "from lightgbm import LGBMClassifier\n",
    "from sklearn.linear_model import LogisticRegression\n",
    "from sklearn.metrics import mean_squared_error, roc_auc_score, roc_curve, recall_score, precision_score, f1_score\n",
    "\n",
    "from xgboost import XGBClassifier\n",
    "\n",
    "import warnings\n",
    "warnings.filterwarnings('ignore')\n",
    "\n",
    "plt.style.use('seaborn-whitegrid')"
   ]
  },
  {
   "cell_type": "markdown",
   "id": "4179ff30",
   "metadata": {
    "id": "d836d05d"
   },
   "source": [
    "import os\n",
    "\n",
    "import missingno as msno\n",
    "from pretty_confusion_matrix import pp_matrix_from_data\n",
    "\n",
    "from sklearn import preprocessing"
   ]
  },
  {
   "cell_type": "code",
   "execution_count": 2,
   "id": "fcd0dc52",
   "metadata": {},
   "outputs": [
    {
     "name": "stdout",
     "output_type": "stream",
     "text": [
      "Le DataFrame contient 252133 lignes qui sont nos clients, et 517 colonnes (dont l'ID du client et sa target)\n"
     ]
    },
    {
     "data": {
      "text/html": [
       "<div>\n",
       "<style scoped>\n",
       "    .dataframe tbody tr th:only-of-type {\n",
       "        vertical-align: middle;\n",
       "    }\n",
       "\n",
       "    .dataframe tbody tr th {\n",
       "        vertical-align: top;\n",
       "    }\n",
       "\n",
       "    .dataframe thead th {\n",
       "        text-align: right;\n",
       "    }\n",
       "</style>\n",
       "<table border=\"1\" class=\"dataframe\">\n",
       "  <thead>\n",
       "    <tr style=\"text-align: right;\">\n",
       "      <th></th>\n",
       "      <th>SK_ID_CURR</th>\n",
       "      <th>TARGET</th>\n",
       "      <th>CODE_GENDER</th>\n",
       "      <th>FLAG_OWN_CAR</th>\n",
       "      <th>FLAG_OWN_REALTY</th>\n",
       "      <th>CNT_CHILDREN</th>\n",
       "      <th>AMT_INCOME_TOTAL</th>\n",
       "      <th>AMT_CREDIT</th>\n",
       "      <th>AMT_ANNUITY</th>\n",
       "      <th>AMT_GOODS_PRICE</th>\n",
       "      <th>...</th>\n",
       "      <th>INSTAL_AMT_INSTALMENT_MEAN</th>\n",
       "      <th>INSTAL_AMT_INSTALMENT_SUM</th>\n",
       "      <th>INSTAL_AMT_PAYMENT_MIN</th>\n",
       "      <th>INSTAL_AMT_PAYMENT_MAX</th>\n",
       "      <th>INSTAL_AMT_PAYMENT_MEAN</th>\n",
       "      <th>INSTAL_AMT_PAYMENT_SUM</th>\n",
       "      <th>INSTAL_DAYS_ENTRY_PAYMENT_MAX</th>\n",
       "      <th>INSTAL_DAYS_ENTRY_PAYMENT_MEAN</th>\n",
       "      <th>INSTAL_DAYS_ENTRY_PAYMENT_SUM</th>\n",
       "      <th>INSTAL_COUNT</th>\n",
       "    </tr>\n",
       "  </thead>\n",
       "  <tbody>\n",
       "    <tr>\n",
       "      <th>0</th>\n",
       "      <td>100002</td>\n",
       "      <td>1</td>\n",
       "      <td>0</td>\n",
       "      <td>0</td>\n",
       "      <td>0</td>\n",
       "      <td>0</td>\n",
       "      <td>202500.0</td>\n",
       "      <td>406597.5</td>\n",
       "      <td>24700.5</td>\n",
       "      <td>351000.0</td>\n",
       "      <td>...</td>\n",
       "      <td>11559.247105</td>\n",
       "      <td>219625.695</td>\n",
       "      <td>9251.775</td>\n",
       "      <td>53093.745</td>\n",
       "      <td>11559.247105</td>\n",
       "      <td>219625.695</td>\n",
       "      <td>-49.0</td>\n",
       "      <td>-315.421053</td>\n",
       "      <td>-5993.0</td>\n",
       "      <td>19.0</td>\n",
       "    </tr>\n",
       "    <tr>\n",
       "      <th>1</th>\n",
       "      <td>100003</td>\n",
       "      <td>0</td>\n",
       "      <td>1</td>\n",
       "      <td>0</td>\n",
       "      <td>1</td>\n",
       "      <td>0</td>\n",
       "      <td>270000.0</td>\n",
       "      <td>1293502.5</td>\n",
       "      <td>35698.5</td>\n",
       "      <td>1129500.0</td>\n",
       "      <td>...</td>\n",
       "      <td>64754.586000</td>\n",
       "      <td>1618864.650</td>\n",
       "      <td>6662.970</td>\n",
       "      <td>560835.360</td>\n",
       "      <td>64754.586000</td>\n",
       "      <td>1618864.650</td>\n",
       "      <td>-544.0</td>\n",
       "      <td>-1385.320000</td>\n",
       "      <td>-34633.0</td>\n",
       "      <td>25.0</td>\n",
       "    </tr>\n",
       "    <tr>\n",
       "      <th>2</th>\n",
       "      <td>100004</td>\n",
       "      <td>0</td>\n",
       "      <td>0</td>\n",
       "      <td>1</td>\n",
       "      <td>0</td>\n",
       "      <td>0</td>\n",
       "      <td>67500.0</td>\n",
       "      <td>135000.0</td>\n",
       "      <td>6750.0</td>\n",
       "      <td>135000.0</td>\n",
       "      <td>...</td>\n",
       "      <td>7096.155000</td>\n",
       "      <td>21288.465</td>\n",
       "      <td>5357.250</td>\n",
       "      <td>10573.965</td>\n",
       "      <td>7096.155000</td>\n",
       "      <td>21288.465</td>\n",
       "      <td>-727.0</td>\n",
       "      <td>-761.666667</td>\n",
       "      <td>-2285.0</td>\n",
       "      <td>3.0</td>\n",
       "    </tr>\n",
       "    <tr>\n",
       "      <th>3</th>\n",
       "      <td>100006</td>\n",
       "      <td>0</td>\n",
       "      <td>1</td>\n",
       "      <td>0</td>\n",
       "      <td>0</td>\n",
       "      <td>0</td>\n",
       "      <td>135000.0</td>\n",
       "      <td>312682.5</td>\n",
       "      <td>29686.5</td>\n",
       "      <td>297000.0</td>\n",
       "      <td>...</td>\n",
       "      <td>62947.088438</td>\n",
       "      <td>1007153.415</td>\n",
       "      <td>2482.920</td>\n",
       "      <td>691786.890</td>\n",
       "      <td>62947.088438</td>\n",
       "      <td>1007153.415</td>\n",
       "      <td>-12.0</td>\n",
       "      <td>-271.625000</td>\n",
       "      <td>-4346.0</td>\n",
       "      <td>16.0</td>\n",
       "    </tr>\n",
       "    <tr>\n",
       "      <th>4</th>\n",
       "      <td>100007</td>\n",
       "      <td>0</td>\n",
       "      <td>0</td>\n",
       "      <td>0</td>\n",
       "      <td>0</td>\n",
       "      <td>0</td>\n",
       "      <td>121500.0</td>\n",
       "      <td>513000.0</td>\n",
       "      <td>21865.5</td>\n",
       "      <td>513000.0</td>\n",
       "      <td>...</td>\n",
       "      <td>12666.444545</td>\n",
       "      <td>835985.340</td>\n",
       "      <td>0.180</td>\n",
       "      <td>22678.785</td>\n",
       "      <td>12214.060227</td>\n",
       "      <td>806127.975</td>\n",
       "      <td>-14.0</td>\n",
       "      <td>-1032.242424</td>\n",
       "      <td>-68128.0</td>\n",
       "      <td>66.0</td>\n",
       "    </tr>\n",
       "  </tbody>\n",
       "</table>\n",
       "<p>5 rows × 517 columns</p>\n",
       "</div>"
      ],
      "text/plain": [
       "   SK_ID_CURR  TARGET  CODE_GENDER  FLAG_OWN_CAR  FLAG_OWN_REALTY  \\\n",
       "0      100002       1            0             0                0   \n",
       "1      100003       0            1             0                1   \n",
       "2      100004       0            0             1                0   \n",
       "3      100006       0            1             0                0   \n",
       "4      100007       0            0             0                0   \n",
       "\n",
       "   CNT_CHILDREN  AMT_INCOME_TOTAL  AMT_CREDIT  AMT_ANNUITY  AMT_GOODS_PRICE  \\\n",
       "0             0          202500.0    406597.5      24700.5         351000.0   \n",
       "1             0          270000.0   1293502.5      35698.5        1129500.0   \n",
       "2             0           67500.0    135000.0       6750.0         135000.0   \n",
       "3             0          135000.0    312682.5      29686.5         297000.0   \n",
       "4             0          121500.0    513000.0      21865.5         513000.0   \n",
       "\n",
       "   ...  INSTAL_AMT_INSTALMENT_MEAN  INSTAL_AMT_INSTALMENT_SUM  \\\n",
       "0  ...                11559.247105                 219625.695   \n",
       "1  ...                64754.586000                1618864.650   \n",
       "2  ...                 7096.155000                  21288.465   \n",
       "3  ...                62947.088438                1007153.415   \n",
       "4  ...                12666.444545                 835985.340   \n",
       "\n",
       "   INSTAL_AMT_PAYMENT_MIN  INSTAL_AMT_PAYMENT_MAX  INSTAL_AMT_PAYMENT_MEAN  \\\n",
       "0                9251.775               53093.745             11559.247105   \n",
       "1                6662.970              560835.360             64754.586000   \n",
       "2                5357.250               10573.965              7096.155000   \n",
       "3                2482.920              691786.890             62947.088438   \n",
       "4                   0.180               22678.785             12214.060227   \n",
       "\n",
       "   INSTAL_AMT_PAYMENT_SUM  INSTAL_DAYS_ENTRY_PAYMENT_MAX  \\\n",
       "0              219625.695                          -49.0   \n",
       "1             1618864.650                         -544.0   \n",
       "2               21288.465                         -727.0   \n",
       "3             1007153.415                          -12.0   \n",
       "4              806127.975                          -14.0   \n",
       "\n",
       "   INSTAL_DAYS_ENTRY_PAYMENT_MEAN  INSTAL_DAYS_ENTRY_PAYMENT_SUM  INSTAL_COUNT  \n",
       "0                     -315.421053                        -5993.0          19.0  \n",
       "1                    -1385.320000                       -34633.0          25.0  \n",
       "2                     -761.666667                        -2285.0           3.0  \n",
       "3                     -271.625000                        -4346.0          16.0  \n",
       "4                    -1032.242424                       -68128.0          66.0  \n",
       "\n",
       "[5 rows x 517 columns]"
      ]
     },
     "execution_count": 2,
     "metadata": {},
     "output_type": "execute_result"
    }
   ],
   "source": [
    "df = pd.read_csv('df_final.csv')\n",
    "print('Le DataFrame contient', df.shape[0], 'lignes qui sont nos clients, et',\n",
    "      df.shape[1], 'colonnes (dont l\\'ID du client et sa target)')\n",
    "df.head()"
   ]
  },
  {
   "cell_type": "code",
   "execution_count": 3,
   "id": "48ac79fd",
   "metadata": {
    "colab": {
     "base_uri": "https://localhost:8080/",
     "height": 358
    },
    "id": "48ac79fd",
    "outputId": "af74eb50-4ca8-4ed1-b4c6-2f0ff1ae253c"
   },
   "outputs": [
    {
     "data": {
      "image/png": "[encoded data removed]",
      "text/plain": [
       "<Figure size 576x360 with 1 Axes>"
      ]
     },
     "metadata": {
      "needs_background": "light"
     },
     "output_type": "display_data"
    }
   ],
   "source": [
    "def without_hue(plot, feature):\n",
    "    total = len(feature)\n",
    "    for p in ax.patches:\n",
    "        percentage = '{:.1f}%'.format(100 * p.get_height()/total)\n",
    "        x = p.get_x() + p.get_width() / 2 - 0.05\n",
    "        y = p.get_y() + p.get_height()\n",
    "        ax.annotate(percentage, (x, y), size=12)\n",
    "    plt.show()\n",
    "\n",
    "\n",
    "fig = plt.figure(figsize=(8, 5))\n",
    "ax = sns.barplot(x=df['TARGET'].value_counts().index,\n",
    "                 y=df['TARGET'].value_counts().values)\n",
    "plt.title('Nombre d\\'occurences par valeur de la variable cible')\n",
    "plt.xlabel('Valeur de la variable cible', fontsize=20)\n",
    "plt.ylabel('Nombre d\\'occurences', fontsize=15)\n",
    "plt.tick_params(axis='both', which='major', labelsize=15)\n",
    "\n",
    "without_hue(ax, df['TARGET'])"
   ]
  },
  {
   "cell_type": "code",
   "execution_count": 4,
   "id": "276cc2de",
   "metadata": {},
   "outputs": [
    {
     "data": {
      "text/plain": [
       "0    230298\n",
       "1     21835\n",
       "Name: TARGET, dtype: int64"
      ]
     },
     "execution_count": 4,
     "metadata": {},
     "output_type": "execute_result"
    }
   ],
   "source": [
    "df['TARGET'].value_counts()"
   ]
  },
  {
   "cell_type": "markdown",
   "id": "9c9c033d",
   "metadata": {
    "id": "9c9c033d"
   },
   "source": [
    "La variable ```TARGET``` est notre variable cible. Elle vaut 1 lorsque le client a des difficultés de paiement (il a payé en retard d'au moins X jours au moins une fois dans les Y premiers remboursements du prêt) et 0 sinon."
   ]
  },
  {
   "cell_type": "markdown",
   "id": "95c43afd",
   "metadata": {},
   "source": [
    "## Préparation des données"
   ]
  },
  {
   "cell_type": "markdown",
   "id": "572c0e2d",
   "metadata": {
    "id": "572c0e2d"
   },
   "source": [
    "### Séparation en sous-ensemble d'entraînement et de test"
   ]
  },
  {
   "cell_type": "code",
   "execution_count": 5,
   "id": "6ff9dec8",
   "metadata": {
    "id": "6ff9dec8"
   },
   "outputs": [],
   "source": [
    "X = df.loc[:, df.columns != 'TARGET']\n",
    "y = 1 -df['TARGET']\n",
    "X_train, X_test, y_train, y_test = train_test_split(\n",
    "    X, y, test_size=0.3, random_state=42)"
   ]
  },
  {
   "cell_type": "code",
   "execution_count": 6,
   "id": "b7f790b0",
   "metadata": {
    "colab": {
     "base_uri": "https://localhost:8080/"
    },
    "id": "7bb5f97b",
    "outputId": "9c62a88c-6df0-4f42-9a59-f1fee1ca8e6f"
   },
   "outputs": [
    {
     "name": "stdout",
     "output_type": "stream",
     "text": [
      "(176493, 516)\n",
      "(75640, 516)\n",
      "(176493,)\n",
      "(75640,)\n"
     ]
    }
   ],
   "source": [
    "print(X_train.shape)\n",
    "print(X_test.shape)\n",
    "print(y_train.shape)\n",
    "print(y_test.shape)"
   ]
  },
  {
   "cell_type": "markdown",
   "id": "560e261d",
   "metadata": {},
   "source": [
    "### Traitement des valeurs manquantes"
   ]
  },
  {
   "cell_type": "code",
   "execution_count": 7,
   "id": "9b3b9737",
   "metadata": {},
   "outputs": [],
   "source": [
    "columns_int = list(X_train.select_dtypes(include=['uint8', 'int64']).columns)\n",
    "columns_float = list(X_train.select_dtypes(include=['float64']).columns)"
   ]
  },
  {
   "cell_type": "code",
   "execution_count": 15,
   "id": "b78c9ca8",
   "metadata": {},
   "outputs": [],
   "source": [
    "X_train_preprocessed = X_train.copy()\n",
    "X_test_preprocessed = X_test.copy()"
   ]
  },
  {
   "cell_type": "markdown",
   "id": "eb680d91",
   "metadata": {},
   "source": [
    "Application de SimpleImputer pour remplacer les Nan selon 2 stratégies:\n",
    "- Si la variable est discrète, on remplace Nan par la valeur la plus fréquente pour cette variable.\n",
    "- Si la variable est continue, on remplace Nan par la moyenne des valeurs pour cette variable."
   ]
  },
  {
   "cell_type": "code",
   "execution_count": 16,
   "id": "52fa6400",
   "metadata": {},
   "outputs": [],
   "source": [
    "imp_most_frequent = SimpleImputer(strategy=\"most_frequent\")\n",
    "imp_most_frequent.fit(X_train_preprocessed[columns_int])\n",
    "X_train_preprocessed[columns_int] = imp_most_frequent.transform(X_train_preprocessed[columns_int])\n",
    "X_test_preprocessed[columns_int] = imp_most_frequent.transform(X_test_preprocessed[columns_int])\n",
    "\n",
    "imp_mean = SimpleImputer(strategy=\"mean\")\n",
    "imp_mean.fit(X_train_preprocessed[columns_float])\n",
    "X_train_preprocessed[columns_float] = imp_mean.transform(X_train_preprocessed[columns_float])\n",
    "X_test_preprocessed[columns_float] = imp_mean.transform(X_test_preprocessed[columns_float])"
   ]
  },
  {
   "cell_type": "markdown",
   "id": "e662dd33",
   "metadata": {
    "id": "e662dd33"
   },
   "source": [
    "### Normalisation"
   ]
  },
  {
   "cell_type": "code",
   "execution_count": 17,
   "id": "11aa13b6",
   "metadata": {
    "id": "11aa13b6"
   },
   "outputs": [],
   "source": [
    "std_scale_X = RobustScaler().fit(X_train_preprocessed[columns_float])\n",
    "X_train_preprocessed[columns_float] = std_scale_X.transform(X_train_preprocessed[columns_float])\n",
    "X_test_preprocessed[columns_float] = std_scale_X.transform(X_test_preprocessed[columns_float])"
   ]
  },
  {
   "cell_type": "markdown",
   "id": "6e2fc9c9",
   "metadata": {
    "id": "6e2fc9c9"
   },
   "source": [
    "## Modélisation"
   ]
  },
  {
   "cell_type": "code",
   "execution_count": 62,
   "id": "9543225a",
   "metadata": {
    "id": "9543225a"
   },
   "outputs": [],
   "source": [
    "def RSE(y_test, predictions):\n",
    "    y_barre = np.mean(y_test)\n",
    "    RSE = sum((y_test - predictions)**2)/sum((y_test - y_barre)**2)\n",
    "    return RSE\n",
    "\n",
    "\n",
    "def Performances(model, y_test, predictions, seuil=0.5):\n",
    "    scores = []\n",
    "\n",
    "    # Cross-validation score\n",
    "    cv_score = model.best_score_\n",
    "    # res = model.cv_results_\n",
    "    # cv_score = res['mean_test_score'].mean()\n",
    "    print('Cross Validation score = {:.2f}'.format(cv_score))\n",
    "    scores.append(cv_score)\n",
    "\n",
    "    # RMSE et MSE\n",
    "    MSE = mean_squared_error(y_test, predictions, squared=True)\n",
    "    print('RMSE = {:.2f}'.format(MSE**(1/2)))\n",
    "    print('MSE = {:.2f}'.format(MSE))\n",
    "    scores.append(MSE**(1/2))\n",
    "    scores.append(MSE)\n",
    "\n",
    "    # RSE\n",
    "    RSE_ = RSE(y_test, predictions)\n",
    "    print('RSE = {:.2f}'.format(RSE_))\n",
    "    scores.append(RSE_)\n",
    "\n",
    "    # ROC AUC score\n",
    "    ROC_AUC = roc_auc_score(y_test, predictions)\n",
    "    print('ROC_AUC = {:.2f}'.format(ROC_AUC))\n",
    "    scores.append(ROC_AUC)\n",
    "\n",
    "    # Courbe ROC\n",
    "    [fpr, tpr, thr] = roc_curve(y_test, predictions)\n",
    "    scores.append([fpr, tpr, thr])\n",
    "    plt.plot(fpr, tpr, color='coral', lw=2, label='Classifier')\n",
    "    plt.plot([0, 1], [0, 1], linestyle='--', label='No Skill')\n",
    "    plt.xlim([0.0, 1.0])\n",
    "    plt.ylim([0.0, 1.01])\n",
    "    plt.xlabel('1 - Spécificité', fontsize=14)\n",
    "    plt.ylabel('Sensibilité', fontsize=14)\n",
    "    plt.show()\n",
    "\n",
    "    y_pred = pd.Series(predictions).apply(lambda x: 1 if x >= seuil else 0)\n",
    "    # Matrice de confusion\n",
    "    #cmap = 'PuRd'\n",
    "    #pp_matrix_from_data(y_test, y_pred)\n",
    "\n",
    "    # Rappel et précision\n",
    "    Recall = recall_score(y_test, y_pred)\n",
    "    Precision = precision_score(y_test, y_pred)\n",
    "    print('Recall = {:.2f}'.format(Recall))\n",
    "    print('Precision = {:.2f}'.format(Precision))\n",
    "    scores.append(Recall)\n",
    "    scores.append(Precision)\n",
    "\n",
    "    # F1-score\n",
    "    F1 = f1_score(y_test, y_pred)\n",
    "    print('Score F1 = {:.2f}'.format(F1))\n",
    "    scores.append(F1)\n",
    "\n",
    "    return scores"
   ]
  },
  {
   "cell_type": "markdown",
   "id": "7df8d12f",
   "metadata": {
    "id": "7df8d12f"
   },
   "source": [
    "1. DummyClassifier\n",
    "2. RandomForestClassifier\n",
    "3. LGBM\n",
    "4. XGBoost\n",
    "5. Logistic Regression"
   ]
  },
  {
   "cell_type": "code",
   "execution_count": 60,
   "id": "7c61552b",
   "metadata": {},
   "outputs": [],
   "source": [
    "np.random.seed(5)\n",
    "from sklearn.model_selection import StratifiedKFold\n",
    "cv_strat = StratifiedKFold(n_splits=5, shuffle=True, random_state=45)"
   ]
  },
  {
   "cell_type": "markdown",
   "id": "5e983111",
   "metadata": {
    "id": "5e983111"
   },
   "source": [
    "### Dummy Classifier"
   ]
  },
  {
   "cell_type": "code",
   "execution_count": 66,
   "id": "334405be",
   "metadata": {
    "colab": {
     "base_uri": "https://localhost:8080/"
    },
    "id": "334405be",
    "outputId": "be982034-9e18-4776-b86e-b8144f07152c"
   },
   "outputs": [
    {
     "name": "stdout",
     "output_type": "stream",
     "text": [
      "Fitting 5 folds for each of 3 candidates, totalling 15 fits\n",
      "[CV 1/5] END ...............strategy=stratified;, score=0.497 total time=   0.2s\n",
      "[CV 2/5] END ...............strategy=stratified;, score=0.499 total time=   0.3s\n",
      "[CV 3/5] END ...............strategy=stratified;, score=0.500 total time=   0.3s\n",
      "[CV 4/5] END ...............strategy=stratified;, score=0.500 total time=   0.2s\n",
      "[CV 5/5] END ...............strategy=stratified;, score=0.498 total time=   0.3s\n",
      "[CV 1/5] END ............strategy=most_frequent;, score=0.500 total time=   0.3s\n",
      "[CV 2/5] END ............strategy=most_frequent;, score=0.500 total time=   0.2s\n",
      "[CV 3/5] END ............strategy=most_frequent;, score=0.500 total time=   0.2s\n",
      "[CV 4/5] END ............strategy=most_frequent;, score=0.500 total time=   0.2s\n",
      "[CV 5/5] END ............strategy=most_frequent;, score=0.500 total time=   0.2s\n",
      "[CV 1/5] END ..................strategy=uniform;, score=0.500 total time=   0.2s\n",
      "[CV 2/5] END ..................strategy=uniform;, score=0.500 total time=   0.2s\n",
      "[CV 3/5] END ..................strategy=uniform;, score=0.500 total time=   0.2s\n",
      "[CV 4/5] END ..................strategy=uniform;, score=0.500 total time=   0.3s\n",
      "[CV 5/5] END ..................strategy=uniform;, score=0.500 total time=   0.2s\n",
      "Meilleurs hyperparamètres : {'strategy': 'most_frequent'}\n"
     ]
    }
   ],
   "source": [
    "param_dummy = {'strategy': ['stratified', 'most_frequent', 'uniform']}\n",
    "\n",
    "dummy = GridSearchCV(DummyClassifier(random_state=0),\n",
    "                     param_grid=param_dummy,\n",
    "                     cv=cv_strat,\n",
    "                     scoring='roc_auc',\n",
    "                     verbose=3)\n",
    "\n",
    "dummy.fit(X_train_preprocessed, y_train)\n",
    "prediction_dummy = dummy.predict_proba(X_test)\n",
    "\n",
    "print('Meilleurs hyperparamètres : ' + str(dummy.best_params_))"
   ]
  },
  {
   "cell_type": "code",
   "execution_count": 65,
   "id": "ac107e95",
   "metadata": {},
   "outputs": [
    {
     "name": "stdout",
     "output_type": "stream",
     "text": [
      "Cross Validation score = 0.50\n",
      "RMSE = 0.29\n",
      "MSE = 0.09\n",
      "RSE = 1.09\n",
      "ROC_AUC = 0.50\n"
     ]
    },
    {
     "data": {
      "image/png": "[encoded data removed]",
      "text/plain": [
       "<Figure size 432x288 with 1 Axes>"
      ]
     },
     "metadata": {
      "needs_background": "light"
     },
     "output_type": "display_data"
    },
    {
     "name": "stdout",
     "output_type": "stream",
     "text": [
      "Recall = 1.00\n",
      "Precision = 0.91\n",
      "Score F1 = 0.96\n"
     ]
    }
   ],
   "source": [
    "perf_dummy = Performances(dummy, y_test, prediction_dummy[:, 1])"
   ]
  },
  {
   "cell_type": "markdown",
   "id": "356cd58e",
   "metadata": {
    "id": "356cd58e"
   },
   "source": [
    "### Random Forest Classifier"
   ]
  },
  {
   "cell_type": "code",
   "execution_count": 67,
   "id": "87eb660e",
   "metadata": {
    "colab": {
     "base_uri": "https://localhost:8080/"
    },
    "id": "5e741c47",
    "outputId": "b94e8b61-3879-4d27-be9c-20e6eb46ef97"
   },
   "outputs": [
    {
     "name": "stdout",
     "output_type": "stream",
     "text": [
      "Fitting 5 folds for each of 108 candidates, totalling 540 fits\n",
      "[CV 1/5] END bootstrap=True, class_weight={0: 1, 1: 1}, max_depth=3, min_samples_leaf=2, n_estimators=100;, score=0.694 total time=  15.8s\n",
      "[CV 2/5] END bootstrap=True, class_weight={0: 1, 1: 1}, max_depth=3, min_samples_leaf=2, n_estimators=100;, score=0.706 total time=  14.9s\n",
      "[CV 3/5] END bootstrap=True, class_weight={0: 1, 1: 1}, max_depth=3, min_samples_leaf=2, n_estimators=100;, score=0.701 total time=  17.8s\n",
      "[CV 4/5] END bootstrap=True, class_weight={0: 1, 1: 1}, max_depth=3, min_samples_leaf=2, n_estimators=100;, score=0.701 total time=  17.6s\n",
      "[CV 5/5] END bootstrap=True, class_weight={0: 1, 1: 1}, max_depth=3, min_samples_leaf=2, n_estimators=100;, score=0.705 total time=  18.2s\n",
      "[CV 1/5] END bootstrap=True, class_weight={0: 1, 1: 1}, max_depth=3, min_samples_leaf=2, n_estimators=150;, score=0.696 total time=  25.7s\n",
      "[CV 2/5] END bootstrap=True, class_weight={0: 1, 1: 1}, max_depth=3, min_samples_leaf=2, n_estimators=150;, score=0.709 total time=  27.3s\n",
      "[CV 3/5] END bootstrap=True, class_weight={0: 1, 1: 1}, max_depth=3, min_samples_leaf=2, n_estimators=150;, score=0.702 total time=  25.1s\n",
      "[CV 4/5] END bootstrap=True, class_weight={0: 1, 1: 1}, max_depth=3, min_samples_leaf=2, n_estimators=150;, score=0.703 total time=  25.0s\n",
      "[CV 5/5] END bootstrap=True, class_weight={0: 1, 1: 1}, max_depth=3, min_samples_leaf=2, n_estimators=150;, score=0.708 total time=  24.0s\n",
      "[CV 1/5] END bootstrap=True, class_weight={0: 1, 1: 1}, max_depth=3, min_samples_leaf=2, n_estimators=200;, score=0.699 total time=  39.5s\n",
      "[CV 2/5] END bootstrap=True, class_weight={0: 1, 1: 1}, max_depth=3, min_samples_leaf=2, n_estimators=200;, score=0.712 total time=  34.6s\n",
      "[CV 3/5] END bootstrap=True, class_weight={0: 1, 1: 1}, max_depth=3, min_samples_leaf=2, n_estimators=200;, score=0.703 total time=  35.0s\n",
      "[CV 4/5] END bootstrap=True, class_weight={0: 1, 1: 1}, max_depth=3, min_samples_leaf=2, n_estimators=200;, score=0.704 total time=  34.9s\n",
      "[CV 5/5] END bootstrap=True, class_weight={0: 1, 1: 1}, max_depth=3, min_samples_leaf=2, n_estimators=200;, score=0.710 total time=  35.6s\n",
      "[CV 1/5] END bootstrap=True, class_weight={0: 1, 1: 1}, max_depth=3, min_samples_leaf=4, n_estimators=100;, score=0.694 total time=  17.5s\n",
      "[CV 2/5] END bootstrap=True, class_weight={0: 1, 1: 1}, max_depth=3, min_samples_leaf=4, n_estimators=100;, score=0.706 total time=  17.2s\n",
      "[CV 3/5] END bootstrap=True, class_weight={0: 1, 1: 1}, max_depth=3, min_samples_leaf=4, n_estimators=100;, score=0.701 total time=  18.0s\n",
      "[CV 4/5] END bootstrap=True, class_weight={0: 1, 1: 1}, max_depth=3, min_samples_leaf=4, n_estimators=100;, score=0.701 total time=  17.1s\n",
      "[CV 5/5] END bootstrap=True, class_weight={0: 1, 1: 1}, max_depth=3, min_samples_leaf=4, n_estimators=100;, score=0.706 total time=  15.7s\n",
      "[CV 1/5] END bootstrap=True, class_weight={0: 1, 1: 1}, max_depth=3, min_samples_leaf=4, n_estimators=150;, score=0.696 total time=  22.9s\n",
      "[CV 2/5] END bootstrap=True, class_weight={0: 1, 1: 1}, max_depth=3, min_samples_leaf=4, n_estimators=150;, score=0.709 total time=  25.8s\n",
      "[CV 3/5] END bootstrap=True, class_weight={0: 1, 1: 1}, max_depth=3, min_samples_leaf=4, n_estimators=150;, score=0.702 total time=  36.6s\n",
      "[CV 4/5] END bootstrap=True, class_weight={0: 1, 1: 1}, max_depth=3, min_samples_leaf=4, n_estimators=150;, score=0.703 total time=  31.8s\n",
      "[CV 5/5] END bootstrap=True, class_weight={0: 1, 1: 1}, max_depth=3, min_samples_leaf=4, n_estimators=150;, score=0.708 total time=  33.9s\n",
      "[CV 1/5] END bootstrap=True, class_weight={0: 1, 1: 1}, max_depth=3, min_samples_leaf=4, n_estimators=200;, score=0.699 total time=  44.9s\n",
      "[CV 2/5] END bootstrap=True, class_weight={0: 1, 1: 1}, max_depth=3, min_samples_leaf=4, n_estimators=200;, score=0.712 total time=  44.6s\n",
      "[CV 3/5] END bootstrap=True, class_weight={0: 1, 1: 1}, max_depth=3, min_samples_leaf=4, n_estimators=200;, score=0.703 total time=  38.7s\n",
      "[CV 4/5] END bootstrap=True, class_weight={0: 1, 1: 1}, max_depth=3, min_samples_leaf=4, n_estimators=200;, score=0.704 total time=  32.6s\n",
      "[CV 5/5] END bootstrap=True, class_weight={0: 1, 1: 1}, max_depth=3, min_samples_leaf=4, n_estimators=200;, score=0.710 total time=  34.9s\n",
      "[CV 1/5] END bootstrap=True, class_weight={0: 1, 1: 1}, max_depth=5, min_samples_leaf=2, n_estimators=100;, score=0.710 total time=  23.0s\n",
      "[CV 2/5] END bootstrap=True, class_weight={0: 1, 1: 1}, max_depth=5, min_samples_leaf=2, n_estimators=100;, score=0.724 total time=  25.2s\n",
      "[CV 3/5] END bootstrap=True, class_weight={0: 1, 1: 1}, max_depth=5, min_samples_leaf=2, n_estimators=100;, score=0.713 total time=  25.5s\n",
      "[CV 4/5] END bootstrap=True, class_weight={0: 1, 1: 1}, max_depth=5, min_samples_leaf=2, n_estimators=100;, score=0.717 total time=  28.9s\n",
      "[CV 5/5] END bootstrap=True, class_weight={0: 1, 1: 1}, max_depth=5, min_samples_leaf=2, n_estimators=100;, score=0.720 total time=  30.3s\n",
      "[CV 1/5] END bootstrap=True, class_weight={0: 1, 1: 1}, max_depth=5, min_samples_leaf=2, n_estimators=150;, score=0.712 total time=  39.2s\n",
      "[CV 2/5] END bootstrap=True, class_weight={0: 1, 1: 1}, max_depth=5, min_samples_leaf=2, n_estimators=150;, score=0.724 total time=  42.1s\n",
      "[CV 3/5] END bootstrap=True, class_weight={0: 1, 1: 1}, max_depth=5, min_samples_leaf=2, n_estimators=150;, score=0.715 total time=  39.9s\n",
      "[CV 4/5] END bootstrap=True, class_weight={0: 1, 1: 1}, max_depth=5, min_samples_leaf=2, n_estimators=150;, score=0.719 total time=  50.1s\n",
      "[CV 5/5] END bootstrap=True, class_weight={0: 1, 1: 1}, max_depth=5, min_samples_leaf=2, n_estimators=150;, score=0.722 total time=  42.6s\n",
      "[CV 1/5] END bootstrap=True, class_weight={0: 1, 1: 1}, max_depth=5, min_samples_leaf=2, n_estimators=200;, score=0.713 total time=  57.1s\n",
      "[CV 2/5] END bootstrap=True, class_weight={0: 1, 1: 1}, max_depth=5, min_samples_leaf=2, n_estimators=200;, score=0.726 total time= 1.1min\n"
     ]
    }
   ],
   "source": [
    "param_RF = {'n_estimators': [100, 150, 200],\n",
    "            'max_depth': [3, 5, None],\n",
    "            'bootstrap': [True, False],\n",
    "            'min_samples_leaf': [2, 4],\n",
    "            'class_weight': [{0: 1, 1: 1}, {0:1, 1:20}, 'balanced']\n",
    "            }\n",
    "\n",
    "RF = GridSearchCV(RandomForestClassifier(random_state=0),\n",
    "                  param_grid=param_RF,\n",
    "                  cv=cv_strat,\n",
    "                  scoring='roc_auc',\n",
    "                  verbose=3)\n",
    "\n",
    "RF.fit(X_train_preprocessed, y_train)\n",
    "prediction_RF = RF.predict_proba(X_test)\n",
    "\n",
    "print('Meilleurs hyperparamètres : ' + str(RF.best_params_))"
   ]
  },
  {
   "cell_type": "code",
   "execution_count": null,
   "id": "124d36c8",
   "metadata": {
    "colab": {
     "base_uri": "https://localhost:8080/",
     "height": 401
    },
    "id": "124d36c8",
    "outputId": "443e927c-c935-4b30-a8f8-5baecfb8235c"
   },
   "outputs": [],
   "source": [
    "perf_RF = Performances(RF, y_test, prediction_RF[:, 1])"
   ]
  },
  {
   "cell_type": "markdown",
   "id": "d07e7830",
   "metadata": {
    "id": "d07e7830"
   },
   "source": [
    "### LightGBM"
   ]
  },
  {
   "cell_type": "code",
   "execution_count": null,
   "id": "f8f659cc",
   "metadata": {
    "colab": {
     "base_uri": "https://localhost:8080/"
    },
    "id": "f8f659cc",
    "outputId": "2f735186-c072-4ac7-bb49-dcca522b7c05"
   },
   "outputs": [],
   "source": [
    "param_LGBM = {'max_depth': [5, 10, 15],\n",
    "              'learning_rate': [0.1, 0.15, 0.3],\n",
    "              'num_leaves': [20, 25, 30],\n",
    "              'n_estimators': [100, 300, 500],\n",
    "              'class_weight':\n",
    "              [{0: 1, 1: 1}, {0:1, 1:20}, 'balanced']}\n",
    "\n",
    "LGBM = GridSearchCV(LGBMClassifier(random_state=0),\n",
    "                    param_grid=param_LGBM,\n",
    "                    cv=cv_strat,\n",
    "                    scoring='roc_auc',\n",
    "                    verbose=3)\n",
    "\n",
    "LGBM.fit(X_train_preprocessed, y_train)\n",
    "prediction_LGBM = LGBM.predict_proba(X_test)\n",
    "\n",
    "print('Meilleurs hyperparamètres : ' + str(LGBM.best_params_))"
   ]
  },
  {
   "cell_type": "code",
   "execution_count": null,
   "id": "660f1d32",
   "metadata": {
    "colab": {
     "base_uri": "https://localhost:8080/",
     "height": 401
    },
    "id": "660f1d32",
    "outputId": "44a8faa5-4852-4b37-8196-d808c4ff5607"
   },
   "outputs": [],
   "source": [
    "perf_LGBM = Performances(LGBM, y_test, prediction_LGBM[:, 1])"
   ]
  },
  {
   "cell_type": "markdown",
   "id": "78b0245e",
   "metadata": {
    "id": "78b0245e"
   },
   "source": [
    "### XGBoost"
   ]
  },
  {
   "cell_type": "code",
   "execution_count": null,
   "id": "7e48331a",
   "metadata": {
    "colab": {
     "base_uri": "https://localhost:8080/"
    },
    "id": "7e48331a",
    "outputId": "83dcecf4-ef56-43f1-d8b3-342f8b9bc858"
   },
   "outputs": [],
   "source": [
    "param_XGB = {'max_depth': [5, 10, 15],\n",
    "             'learning_rate': [0.1, 0.15, 0.3],\n",
    "             'n_estimators': [100, 300, 500],\n",
    "             'class_weight': [{0: 1, 1: 1}, {0:1, 1:20}, 'balanced']}\n",
    "\n",
    "XGB = GridSearchCV(XGBClassifier(random_state=0),\n",
    "                   param_grid=param_XGB,\n",
    "                   cv=cv_strat,\n",
    "                   scoring='roc_auc',\n",
    "                   verbose=3)\n",
    "\n",
    "XGB.fit(X_train_preprocessed, y_train)\n",
    "prediction_XGB = XGB.predict_proba(X_test)\n",
    "\n",
    "print('Meilleurs hyperparamètres : ' + str(XGB.best_params_))"
   ]
  },
  {
   "cell_type": "code",
   "execution_count": null,
   "id": "c11459b8",
   "metadata": {
    "colab": {
     "base_uri": "https://localhost:8080/",
     "height": 401
    },
    "id": "c11459b8",
    "outputId": "3023052d-aca9-4d18-9bee-ab111bf8d59b"
   },
   "outputs": [],
   "source": [
    "perf_XGB = Performances(XGB, y_test, prediction_XGB[:, 1])"
   ]
  },
  {
   "cell_type": "markdown",
   "id": "5d2b3bbc",
   "metadata": {
    "id": "5d2b3bbc"
   },
   "source": [
    "### Logistic Regression"
   ]
  },
  {
   "cell_type": "code",
   "execution_count": null,
   "id": "494f9b77",
   "metadata": {
    "colab": {
     "base_uri": "https://localhost:8080/"
    },
    "id": "494f9b77",
    "outputId": "99b7f4a4-ebf3-4e85-ac8e-fc45acf38c86"
   },
   "outputs": [],
   "source": [
    "param_Logistic = {'C': np.logspace(-4, 4, 20),\n",
    "                  'penalty': ['none', 'l2'],\n",
    "                  'class_weight':\n",
    "                  [{0: 1, 1: 1}, {0:1, 1:20}, 'balanced']}\n",
    "\n",
    "Logistic = GridSearchCV(LogisticRegression(random_state=0),\n",
    "                        param_grid=param_Logistic,\n",
    "                        cv=cv_strat,\n",
    "                        scoring='roc_auc',\n",
    "                        verbose=3)\n",
    "\n",
    "Logistic.fit(X_train_preprocessed, y_train)\n",
    "prediction_Logistic = Logistic.predict_proba(X_test)\n",
    "\n",
    "print('Meilleurs hyperparamètres : ' + str(Logistic.best_params_))"
   ]
  },
  {
   "cell_type": "code",
   "execution_count": null,
   "id": "97399363",
   "metadata": {
    "colab": {
     "base_uri": "https://localhost:8080/",
     "height": 401
    },
    "id": "97399363",
    "outputId": "f9eca01d-57f8-48e6-9f64-41dfce2a18e5"
   },
   "outputs": [],
   "source": [
    "perf_Logistic = Performances(Logistic, y_test, prediction_Logistic[:, 1])"
   ]
  },
  {
   "cell_type": "markdown",
   "id": "2ea78296",
   "metadata": {
    "id": "2ea78296"
   },
   "source": [
    "### Comparaison des performances"
   ]
  },
  {
   "cell_type": "code",
   "execution_count": null,
   "id": "7b4da364",
   "metadata": {},
   "outputs": [],
   "source": [
    "def displayPerformances(listePerf):\n",
    "    listeAUC = [perf[4] for perf in listePerf]\n",
    "    # listeF1 = [perf[8] for perf in listePerf]\n",
    "    listeModeles = ['Dummy Classifier', 'Random Forest', 'LGBM',\n",
    "                    'XGBoost', 'Logistic Regression']\n",
    "    score = pd.DataFrame()\n",
    "    score['Modèle'] = listeModeles\n",
    "    score['AUC'] = listeAUC\n",
    "    # score['F1'] = listeF1\n",
    "\n",
    "    fig = plt.figure(figsize=(12, 8))\n",
    "    ax = sns.barplot(x='Modèle', y='AUC', data=score)\n",
    "    for i in ax.containers:\n",
    "        ax.bar_label(i,)\n",
    "    plt.title('Score AUC des différents modèles testés',\n",
    "            fontsize=20)\n",
    "    plt.xlabel('Les différents modèles testés', fontsize=20)\n",
    "    plt.ylabel('Score AUC', fontsize=15)\n",
    "    plt.tick_params(axis='both', which='major', labelsize=15)\n",
    "    plt.show()\n",
    "\n",
    "    for perf in listePerf:\n",
    "        [fpr, tpr, thr] = perf[5]\n",
    "        plt.plot(fpr, tpr, lw=2)\n",
    "    plt.legend(listeModeles)\n",
    "    plt.xlim([0.0, 1.0])\n",
    "    plt.ylim([0.0, 1.05])\n",
    "    plt.xlabel('1 - Spécificité', fontsize=14)\n",
    "    plt.ylabel('Sensibilité', fontsize=14)\n",
    "    plt.show()"
   ]
  },
  {
   "cell_type": "code",
   "execution_count": null,
   "id": "28af1d3a",
   "metadata": {
    "colab": {
     "base_uri": "https://localhost:8080/",
     "height": 527
    },
    "id": "28af1d3a",
    "outputId": "c4b6d46e-852c-4acf-93b6-a7d38911f910"
   },
   "outputs": [],
   "source": [
    "listePerf = [perf_dummy, perf_RF, perf_LGBM, perf_XGB, perf_Logistic]\n",
    "displayPerformances(listePerf)"
   ]
  },
  {
   "cell_type": "markdown",
   "id": "ac5d6e17",
   "metadata": {},
   "source": [
    "### GridSearch + SMOTE"
   ]
  },
  {
   "cell_type": "code",
   "execution_count": null,
   "id": "5a039d38",
   "metadata": {},
   "outputs": [],
   "source": []
  },
  {
   "cell_type": "markdown",
   "id": "58b0b01a",
   "metadata": {},
   "source": [
    "### GridSearch + SMOTE SE"
   ]
  },
  {
   "cell_type": "code",
   "execution_count": null,
   "id": "162fc1dd",
   "metadata": {},
   "outputs": [],
   "source": []
  }
 ],
 "metadata": {
  "colab": {
   "collapsed_sections": [],
   "name": "P7_01_Notebook.ipynb",
   "provenance": []
  },
  "kernelspec": {
   "display_name": "Python 3.9.7 ('base')",
   "language": "python",
   "name": "python3"
  },
  "language_info": {
   "codemirror_mode": {
    "name": "ipython",
    "version": 3
   },
   "file_extension": ".py",
   "mimetype": "text/x-python",
   "name": "python",
   "nbconvert_exporter": "python",
   "pygments_lexer": "ipython3",
   "version": "3.9.7"
  },
  "vscode": {
   "interpreter": {
    "hash": "16196ea7eff63910081d4e10ae1bdb1eb18fd83cb470bb8efbb9fa6b0c724af5"
   }
  }
 },
 "nbformat": 4,
 "nbformat_minor": 5
}
