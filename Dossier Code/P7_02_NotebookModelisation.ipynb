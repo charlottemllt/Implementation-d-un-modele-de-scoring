{
 "cells": [
  {
   "cell_type": "code",
   "execution_count": 1,
   "id": "d836d05d",
   "metadata": {
    "id": "d836d05d"
   },
   "outputs": [],
   "source": [
    "import os\n",
    "\n",
    "import pandas as pd\n",
    "import numpy as np\n",
    "import matplotlib.pyplot as plt\n",
    "import seaborn as sns\n",
    "\n",
    "import missingno as msno\n",
    "from pretty_confusion_matrix import pp_matrix_from_data\n",
    "\n",
    "from sklearn import preprocessing\n",
    "from sklearn.model_selection import GridSearchCV, train_test_split, KFold, \\\n",
    "    StratifiedKFold\n",
    "from sklearn.dummy import DummyClassifier\n",
    "from sklearn.ensemble import RandomForestClassifier\n",
    "from lightgbm import LGBMClassifier\n",
    "from sklearn.linear_model import LogisticRegression\n",
    "from sklearn.metrics import mean_squared_error, precision_score, \\\n",
    "    recall_score, roc_curve, roc_auc_score, f1_score\n",
    "\n",
    "from xgboost import XGBClassifier\n",
    "\n",
    "import warnings\n",
    "warnings.filterwarnings('ignore')\n",
    "\n",
    "plt.style.use('seaborn-whitegrid')"
   ]
  },
  {
   "cell_type": "code",
   "execution_count": 2,
   "id": "fcd0dc52",
   "metadata": {},
   "outputs": [
    {
     "ename": "MemoryError",
     "evalue": "Unable to allocate 1.43 GiB for an array with shape (625, 307506) and data type float64",
     "output_type": "error",
     "traceback": [
      "\u001b[1;31m---------------------------------------------------------------------------\u001b[0m",
      "\u001b[1;31mMemoryError\u001b[0m                               Traceback (most recent call last)",
      "\u001b[1;32m~\\AppData\\Local\\Temp/ipykernel_46996/3312948970.py\u001b[0m in \u001b[0;36m<module>\u001b[1;34m\u001b[0m\n\u001b[1;32m----> 1\u001b[1;33m \u001b[0mdf_best\u001b[0m \u001b[1;33m=\u001b[0m \u001b[0mpd\u001b[0m\u001b[1;33m.\u001b[0m\u001b[0mread_csv\u001b[0m\u001b[1;33m(\u001b[0m\u001b[1;34m'df_final.csv'\u001b[0m\u001b[1;33m)\u001b[0m\u001b[1;33m\u001b[0m\u001b[1;33m\u001b[0m\u001b[0m\n\u001b[0m\u001b[0;32m      2\u001b[0m \u001b[0mdf_best\u001b[0m\u001b[1;33m.\u001b[0m\u001b[0mshape\u001b[0m\u001b[1;33m\u001b[0m\u001b[1;33m\u001b[0m\u001b[0m\n",
      "\u001b[1;32m~\\anaconda3\\lib\\site-packages\\pandas\\util\\_decorators.py\u001b[0m in \u001b[0;36mwrapper\u001b[1;34m(*args, **kwargs)\u001b[0m\n\u001b[0;32m    309\u001b[0m                     \u001b[0mstacklevel\u001b[0m\u001b[1;33m=\u001b[0m\u001b[0mstacklevel\u001b[0m\u001b[1;33m,\u001b[0m\u001b[1;33m\u001b[0m\u001b[1;33m\u001b[0m\u001b[0m\n\u001b[0;32m    310\u001b[0m                 )\n\u001b[1;32m--> 311\u001b[1;33m             \u001b[1;32mreturn\u001b[0m \u001b[0mfunc\u001b[0m\u001b[1;33m(\u001b[0m\u001b[1;33m*\u001b[0m\u001b[0margs\u001b[0m\u001b[1;33m,\u001b[0m \u001b[1;33m**\u001b[0m\u001b[0mkwargs\u001b[0m\u001b[1;33m)\u001b[0m\u001b[1;33m\u001b[0m\u001b[1;33m\u001b[0m\u001b[0m\n\u001b[0m\u001b[0;32m    312\u001b[0m \u001b[1;33m\u001b[0m\u001b[0m\n\u001b[0;32m    313\u001b[0m         \u001b[1;32mreturn\u001b[0m \u001b[0mwrapper\u001b[0m\u001b[1;33m\u001b[0m\u001b[1;33m\u001b[0m\u001b[0m\n",
      "\u001b[1;32m~\\anaconda3\\lib\\site-packages\\pandas\\io\\parsers\\readers.py\u001b[0m in \u001b[0;36mread_csv\u001b[1;34m(filepath_or_buffer, sep, delimiter, header, names, index_col, usecols, squeeze, prefix, mangle_dupe_cols, dtype, engine, converters, true_values, false_values, skipinitialspace, skiprows, skipfooter, nrows, na_values, keep_default_na, na_filter, verbose, skip_blank_lines, parse_dates, infer_datetime_format, keep_date_col, date_parser, dayfirst, cache_dates, iterator, chunksize, compression, thousands, decimal, lineterminator, quotechar, quoting, doublequote, escapechar, comment, encoding, encoding_errors, dialect, error_bad_lines, warn_bad_lines, on_bad_lines, delim_whitespace, low_memory, memory_map, float_precision, storage_options)\u001b[0m\n\u001b[0;32m    584\u001b[0m     \u001b[0mkwds\u001b[0m\u001b[1;33m.\u001b[0m\u001b[0mupdate\u001b[0m\u001b[1;33m(\u001b[0m\u001b[0mkwds_defaults\u001b[0m\u001b[1;33m)\u001b[0m\u001b[1;33m\u001b[0m\u001b[1;33m\u001b[0m\u001b[0m\n\u001b[0;32m    585\u001b[0m \u001b[1;33m\u001b[0m\u001b[0m\n\u001b[1;32m--> 586\u001b[1;33m     \u001b[1;32mreturn\u001b[0m \u001b[0m_read\u001b[0m\u001b[1;33m(\u001b[0m\u001b[0mfilepath_or_buffer\u001b[0m\u001b[1;33m,\u001b[0m \u001b[0mkwds\u001b[0m\u001b[1;33m)\u001b[0m\u001b[1;33m\u001b[0m\u001b[1;33m\u001b[0m\u001b[0m\n\u001b[0m\u001b[0;32m    587\u001b[0m \u001b[1;33m\u001b[0m\u001b[0m\n\u001b[0;32m    588\u001b[0m \u001b[1;33m\u001b[0m\u001b[0m\n",
      "\u001b[1;32m~\\anaconda3\\lib\\site-packages\\pandas\\io\\parsers\\readers.py\u001b[0m in \u001b[0;36m_read\u001b[1;34m(filepath_or_buffer, kwds)\u001b[0m\n\u001b[0;32m    486\u001b[0m \u001b[1;33m\u001b[0m\u001b[0m\n\u001b[0;32m    487\u001b[0m     \u001b[1;32mwith\u001b[0m \u001b[0mparser\u001b[0m\u001b[1;33m:\u001b[0m\u001b[1;33m\u001b[0m\u001b[1;33m\u001b[0m\u001b[0m\n\u001b[1;32m--> 488\u001b[1;33m         \u001b[1;32mreturn\u001b[0m \u001b[0mparser\u001b[0m\u001b[1;33m.\u001b[0m\u001b[0mread\u001b[0m\u001b[1;33m(\u001b[0m\u001b[0mnrows\u001b[0m\u001b[1;33m)\u001b[0m\u001b[1;33m\u001b[0m\u001b[1;33m\u001b[0m\u001b[0m\n\u001b[0m\u001b[0;32m    489\u001b[0m \u001b[1;33m\u001b[0m\u001b[0m\n\u001b[0;32m    490\u001b[0m \u001b[1;33m\u001b[0m\u001b[0m\n",
      "\u001b[1;32m~\\anaconda3\\lib\\site-packages\\pandas\\io\\parsers\\readers.py\u001b[0m in \u001b[0;36mread\u001b[1;34m(self, nrows)\u001b[0m\n\u001b[0;32m   1057\u001b[0m             \u001b[0mnew_rows\u001b[0m \u001b[1;33m=\u001b[0m \u001b[0mlen\u001b[0m\u001b[1;33m(\u001b[0m\u001b[0mindex\u001b[0m\u001b[1;33m)\u001b[0m\u001b[1;33m\u001b[0m\u001b[1;33m\u001b[0m\u001b[0m\n\u001b[0;32m   1058\u001b[0m \u001b[1;33m\u001b[0m\u001b[0m\n\u001b[1;32m-> 1059\u001b[1;33m         \u001b[0mdf\u001b[0m \u001b[1;33m=\u001b[0m \u001b[0mDataFrame\u001b[0m\u001b[1;33m(\u001b[0m\u001b[0mcol_dict\u001b[0m\u001b[1;33m,\u001b[0m \u001b[0mcolumns\u001b[0m\u001b[1;33m=\u001b[0m\u001b[0mcolumns\u001b[0m\u001b[1;33m,\u001b[0m \u001b[0mindex\u001b[0m\u001b[1;33m=\u001b[0m\u001b[0mindex\u001b[0m\u001b[1;33m)\u001b[0m\u001b[1;33m\u001b[0m\u001b[1;33m\u001b[0m\u001b[0m\n\u001b[0m\u001b[0;32m   1060\u001b[0m \u001b[1;33m\u001b[0m\u001b[0m\n\u001b[0;32m   1061\u001b[0m         \u001b[0mself\u001b[0m\u001b[1;33m.\u001b[0m\u001b[0m_currow\u001b[0m \u001b[1;33m+=\u001b[0m \u001b[0mnew_rows\u001b[0m\u001b[1;33m\u001b[0m\u001b[1;33m\u001b[0m\u001b[0m\n",
      "\u001b[1;32m~\\anaconda3\\lib\\site-packages\\pandas\\core\\frame.py\u001b[0m in \u001b[0;36m__init__\u001b[1;34m(self, data, index, columns, dtype, copy)\u001b[0m\n\u001b[0;32m    612\u001b[0m         \u001b[1;32melif\u001b[0m \u001b[0misinstance\u001b[0m\u001b[1;33m(\u001b[0m\u001b[0mdata\u001b[0m\u001b[1;33m,\u001b[0m \u001b[0mdict\u001b[0m\u001b[1;33m)\u001b[0m\u001b[1;33m:\u001b[0m\u001b[1;33m\u001b[0m\u001b[1;33m\u001b[0m\u001b[0m\n\u001b[0;32m    613\u001b[0m             \u001b[1;31m# GH#38939 de facto copy defaults to False only in non-dict cases\u001b[0m\u001b[1;33m\u001b[0m\u001b[1;33m\u001b[0m\u001b[0m\n\u001b[1;32m--> 614\u001b[1;33m             \u001b[0mmgr\u001b[0m \u001b[1;33m=\u001b[0m \u001b[0mdict_to_mgr\u001b[0m\u001b[1;33m(\u001b[0m\u001b[0mdata\u001b[0m\u001b[1;33m,\u001b[0m \u001b[0mindex\u001b[0m\u001b[1;33m,\u001b[0m \u001b[0mcolumns\u001b[0m\u001b[1;33m,\u001b[0m \u001b[0mdtype\u001b[0m\u001b[1;33m=\u001b[0m\u001b[0mdtype\u001b[0m\u001b[1;33m,\u001b[0m \u001b[0mcopy\u001b[0m\u001b[1;33m=\u001b[0m\u001b[0mcopy\u001b[0m\u001b[1;33m,\u001b[0m \u001b[0mtyp\u001b[0m\u001b[1;33m=\u001b[0m\u001b[0mmanager\u001b[0m\u001b[1;33m)\u001b[0m\u001b[1;33m\u001b[0m\u001b[1;33m\u001b[0m\u001b[0m\n\u001b[0m\u001b[0;32m    615\u001b[0m         \u001b[1;32melif\u001b[0m \u001b[0misinstance\u001b[0m\u001b[1;33m(\u001b[0m\u001b[0mdata\u001b[0m\u001b[1;33m,\u001b[0m \u001b[0mma\u001b[0m\u001b[1;33m.\u001b[0m\u001b[0mMaskedArray\u001b[0m\u001b[1;33m)\u001b[0m\u001b[1;33m:\u001b[0m\u001b[1;33m\u001b[0m\u001b[1;33m\u001b[0m\u001b[0m\n\u001b[0;32m    616\u001b[0m             \u001b[1;32mimport\u001b[0m \u001b[0mnumpy\u001b[0m\u001b[1;33m.\u001b[0m\u001b[0mma\u001b[0m\u001b[1;33m.\u001b[0m\u001b[0mmrecords\u001b[0m \u001b[1;32mas\u001b[0m \u001b[0mmrecords\u001b[0m\u001b[1;33m\u001b[0m\u001b[1;33m\u001b[0m\u001b[0m\n",
      "\u001b[1;32m~\\anaconda3\\lib\\site-packages\\pandas\\core\\internals\\construction.py\u001b[0m in \u001b[0;36mdict_to_mgr\u001b[1;34m(data, index, columns, dtype, typ, copy)\u001b[0m\n\u001b[0;32m    462\u001b[0m         \u001b[1;31m# TODO: can we get rid of the dt64tz special case above?\u001b[0m\u001b[1;33m\u001b[0m\u001b[1;33m\u001b[0m\u001b[0m\n\u001b[0;32m    463\u001b[0m \u001b[1;33m\u001b[0m\u001b[0m\n\u001b[1;32m--> 464\u001b[1;33m     return arrays_to_mgr(\n\u001b[0m\u001b[0;32m    465\u001b[0m         \u001b[0marrays\u001b[0m\u001b[1;33m,\u001b[0m \u001b[0mdata_names\u001b[0m\u001b[1;33m,\u001b[0m \u001b[0mindex\u001b[0m\u001b[1;33m,\u001b[0m \u001b[0mcolumns\u001b[0m\u001b[1;33m,\u001b[0m \u001b[0mdtype\u001b[0m\u001b[1;33m=\u001b[0m\u001b[0mdtype\u001b[0m\u001b[1;33m,\u001b[0m \u001b[0mtyp\u001b[0m\u001b[1;33m=\u001b[0m\u001b[0mtyp\u001b[0m\u001b[1;33m,\u001b[0m \u001b[0mconsolidate\u001b[0m\u001b[1;33m=\u001b[0m\u001b[0mcopy\u001b[0m\u001b[1;33m\u001b[0m\u001b[1;33m\u001b[0m\u001b[0m\n\u001b[0;32m    466\u001b[0m     )\n",
      "\u001b[1;32m~\\anaconda3\\lib\\site-packages\\pandas\\core\\internals\\construction.py\u001b[0m in \u001b[0;36marrays_to_mgr\u001b[1;34m(arrays, arr_names, index, columns, dtype, verify_integrity, typ, consolidate)\u001b[0m\n\u001b[0;32m    133\u001b[0m \u001b[1;33m\u001b[0m\u001b[0m\n\u001b[0;32m    134\u001b[0m     \u001b[1;32mif\u001b[0m \u001b[0mtyp\u001b[0m \u001b[1;33m==\u001b[0m \u001b[1;34m\"block\"\u001b[0m\u001b[1;33m:\u001b[0m\u001b[1;33m\u001b[0m\u001b[1;33m\u001b[0m\u001b[0m\n\u001b[1;32m--> 135\u001b[1;33m         return create_block_manager_from_arrays(\n\u001b[0m\u001b[0;32m    136\u001b[0m             \u001b[0marrays\u001b[0m\u001b[1;33m,\u001b[0m \u001b[0marr_names\u001b[0m\u001b[1;33m,\u001b[0m \u001b[0maxes\u001b[0m\u001b[1;33m,\u001b[0m \u001b[0mconsolidate\u001b[0m\u001b[1;33m=\u001b[0m\u001b[0mconsolidate\u001b[0m\u001b[1;33m\u001b[0m\u001b[1;33m\u001b[0m\u001b[0m\n\u001b[0;32m    137\u001b[0m         )\n",
      "\u001b[1;32m~\\anaconda3\\lib\\site-packages\\pandas\\core\\internals\\managers.py\u001b[0m in \u001b[0;36mcreate_block_manager_from_arrays\u001b[1;34m(arrays, names, axes, consolidate)\u001b[0m\n\u001b[0;32m   1771\u001b[0m \u001b[1;33m\u001b[0m\u001b[0m\n\u001b[0;32m   1772\u001b[0m     \u001b[1;32mtry\u001b[0m\u001b[1;33m:\u001b[0m\u001b[1;33m\u001b[0m\u001b[1;33m\u001b[0m\u001b[0m\n\u001b[1;32m-> 1773\u001b[1;33m         \u001b[0mblocks\u001b[0m \u001b[1;33m=\u001b[0m \u001b[0m_form_blocks\u001b[0m\u001b[1;33m(\u001b[0m\u001b[0marrays\u001b[0m\u001b[1;33m,\u001b[0m \u001b[0mnames\u001b[0m\u001b[1;33m,\u001b[0m \u001b[0maxes\u001b[0m\u001b[1;33m,\u001b[0m \u001b[0mconsolidate\u001b[0m\u001b[1;33m)\u001b[0m\u001b[1;33m\u001b[0m\u001b[1;33m\u001b[0m\u001b[0m\n\u001b[0m\u001b[0;32m   1774\u001b[0m         \u001b[0mmgr\u001b[0m \u001b[1;33m=\u001b[0m \u001b[0mBlockManager\u001b[0m\u001b[1;33m(\u001b[0m\u001b[0mblocks\u001b[0m\u001b[1;33m,\u001b[0m \u001b[0maxes\u001b[0m\u001b[1;33m)\u001b[0m\u001b[1;33m\u001b[0m\u001b[1;33m\u001b[0m\u001b[0m\n\u001b[0;32m   1775\u001b[0m     \u001b[1;32mexcept\u001b[0m \u001b[0mValueError\u001b[0m \u001b[1;32mas\u001b[0m \u001b[0me\u001b[0m\u001b[1;33m:\u001b[0m\u001b[1;33m\u001b[0m\u001b[1;33m\u001b[0m\u001b[0m\n",
      "\u001b[1;32m~\\anaconda3\\lib\\site-packages\\pandas\\core\\internals\\managers.py\u001b[0m in \u001b[0;36m_form_blocks\u001b[1;34m(arrays, names, axes, consolidate)\u001b[0m\n\u001b[0;32m   1836\u001b[0m     \u001b[0mblocks\u001b[0m\u001b[1;33m:\u001b[0m \u001b[0mlist\u001b[0m\u001b[1;33m[\u001b[0m\u001b[0mBlock\u001b[0m\u001b[1;33m]\u001b[0m \u001b[1;33m=\u001b[0m \u001b[1;33m[\u001b[0m\u001b[1;33m]\u001b[0m\u001b[1;33m\u001b[0m\u001b[1;33m\u001b[0m\u001b[0m\n\u001b[0;32m   1837\u001b[0m     \u001b[1;32mif\u001b[0m \u001b[0mlen\u001b[0m\u001b[1;33m(\u001b[0m\u001b[0mitems_dict\u001b[0m\u001b[1;33m[\u001b[0m\u001b[1;34m\"NumericBlock\"\u001b[0m\u001b[1;33m]\u001b[0m\u001b[1;33m)\u001b[0m\u001b[1;33m:\u001b[0m\u001b[1;33m\u001b[0m\u001b[1;33m\u001b[0m\u001b[0m\n\u001b[1;32m-> 1838\u001b[1;33m         numeric_blocks = _multi_blockify(\n\u001b[0m\u001b[0;32m   1839\u001b[0m             \u001b[0mitems_dict\u001b[0m\u001b[1;33m[\u001b[0m\u001b[1;34m\"NumericBlock\"\u001b[0m\u001b[1;33m]\u001b[0m\u001b[1;33m,\u001b[0m \u001b[0mconsolidate\u001b[0m\u001b[1;33m=\u001b[0m\u001b[0mconsolidate\u001b[0m\u001b[1;33m\u001b[0m\u001b[1;33m\u001b[0m\u001b[0m\n\u001b[0;32m   1840\u001b[0m         )\n",
      "\u001b[1;32m~\\anaconda3\\lib\\site-packages\\pandas\\core\\internals\\managers.py\u001b[0m in \u001b[0;36m_multi_blockify\u001b[1;34m(tuples, dtype, consolidate)\u001b[0m\n\u001b[0;32m   1926\u001b[0m         \u001b[1;31m# \"Union[ExtensionDtype, str, dtype[Any], Type[str], Type[float], Type[int],\u001b[0m\u001b[1;33m\u001b[0m\u001b[1;33m\u001b[0m\u001b[0m\n\u001b[0;32m   1927\u001b[0m         \u001b[1;31m# Type[complex], Type[bool], Type[object], None]\"; expected \"dtype[Any]\"\u001b[0m\u001b[1;33m\u001b[0m\u001b[1;33m\u001b[0m\u001b[0m\n\u001b[1;32m-> 1928\u001b[1;33m         values, placement = _stack_arrays(\n\u001b[0m\u001b[0;32m   1929\u001b[0m             \u001b[0mlist\u001b[0m\u001b[1;33m(\u001b[0m\u001b[0mtup_block\u001b[0m\u001b[1;33m)\u001b[0m\u001b[1;33m,\u001b[0m \u001b[0mdtype\u001b[0m  \u001b[1;31m# type: ignore[arg-type]\u001b[0m\u001b[1;33m\u001b[0m\u001b[1;33m\u001b[0m\u001b[0m\n\u001b[0;32m   1930\u001b[0m         )\n",
      "\u001b[1;32m~\\anaconda3\\lib\\site-packages\\pandas\\core\\internals\\managers.py\u001b[0m in \u001b[0;36m_stack_arrays\u001b[1;34m(tuples, dtype)\u001b[0m\n\u001b[0;32m   1955\u001b[0m     \u001b[0mshape\u001b[0m \u001b[1;33m=\u001b[0m \u001b[1;33m(\u001b[0m\u001b[0mlen\u001b[0m\u001b[1;33m(\u001b[0m\u001b[0marrays\u001b[0m\u001b[1;33m)\u001b[0m\u001b[1;33m,\u001b[0m\u001b[1;33m)\u001b[0m \u001b[1;33m+\u001b[0m \u001b[0mfirst\u001b[0m\u001b[1;33m.\u001b[0m\u001b[0mshape\u001b[0m\u001b[1;33m\u001b[0m\u001b[1;33m\u001b[0m\u001b[0m\n\u001b[0;32m   1956\u001b[0m \u001b[1;33m\u001b[0m\u001b[0m\n\u001b[1;32m-> 1957\u001b[1;33m     \u001b[0mstacked\u001b[0m \u001b[1;33m=\u001b[0m \u001b[0mnp\u001b[0m\u001b[1;33m.\u001b[0m\u001b[0mempty\u001b[0m\u001b[1;33m(\u001b[0m\u001b[0mshape\u001b[0m\u001b[1;33m,\u001b[0m \u001b[0mdtype\u001b[0m\u001b[1;33m=\u001b[0m\u001b[0mdtype\u001b[0m\u001b[1;33m)\u001b[0m\u001b[1;33m\u001b[0m\u001b[1;33m\u001b[0m\u001b[0m\n\u001b[0m\u001b[0;32m   1958\u001b[0m     \u001b[1;32mfor\u001b[0m \u001b[0mi\u001b[0m\u001b[1;33m,\u001b[0m \u001b[0marr\u001b[0m \u001b[1;32min\u001b[0m \u001b[0menumerate\u001b[0m\u001b[1;33m(\u001b[0m\u001b[0marrays\u001b[0m\u001b[1;33m)\u001b[0m\u001b[1;33m:\u001b[0m\u001b[1;33m\u001b[0m\u001b[1;33m\u001b[0m\u001b[0m\n\u001b[0;32m   1959\u001b[0m         \u001b[0mstacked\u001b[0m\u001b[1;33m[\u001b[0m\u001b[0mi\u001b[0m\u001b[1;33m]\u001b[0m \u001b[1;33m=\u001b[0m \u001b[0marr\u001b[0m\u001b[1;33m\u001b[0m\u001b[1;33m\u001b[0m\u001b[0m\n",
      "\u001b[1;31mMemoryError\u001b[0m: Unable to allocate 1.43 GiB for an array with shape (625, 307506) and data type float64"
     ]
    }
   ],
   "source": [
    "df_best = pd.read_csv('df_final.csv')\n",
    "df_best.shape"
   ]
  },
  {
   "cell_type": "code",
   "execution_count": null,
   "id": "8c6fe2af",
   "metadata": {},
   "outputs": [],
   "source": [
    "msno.bar(df_best, color=\"darkblue\")\n",
    "plt.show()"
   ]
  },
  {
   "cell_type": "code",
   "execution_count": null,
   "id": "bb2ac730",
   "metadata": {
    "id": "bb2ac730"
   },
   "outputs": [],
   "source": [
    "def TraitementValeursManquantes(df0, threshold=0.40, display=True):\n",
    "    # thresh est le taux de valeurs manquantes au-dessus\n",
    "    # duquel on supprime la colonne\n",
    "    df = df0.copy()\n",
    "    liste_colonnes = df.columns.to_list()\n",
    "    if display:\n",
    "        msno.bar(df, color=\"darkblue\")\n",
    "        plt.show()\n",
    "\n",
    "    taux_remp = 100*(1-df.isnull().sum().sum()\n",
    "                     / (df.shape[0]*df.shape[1]))\n",
    "    if display:\n",
    "        print('Le dataset présente un taux de remplissage de '\n",
    "              + str(round(taux_remp)) + '%.')\n",
    "\n",
    "        print('Taille du dataset :', df.shape)\n",
    "    N = (1-threshold) * df.shape[0]\n",
    "    df.dropna(thresh=N, inplace=True, axis='columns')\n",
    "    col_suppr = [col for col in liste_colonnes if col not in df.columns]\n",
    "\n",
    "    if display:\n",
    "        print('Colonnes supprimées :', col_suppr)\n",
    "        print('Taille du dataset après suppression des colonnes',\n",
    "              'trop peu remplies :', df.shape)\n",
    "    df.dropna(inplace=True)\n",
    "    if display:\n",
    "        print('Taille du dataset après suppression des lignes ayant',\n",
    "              'des valeurs manquantes:', df.shape)\n",
    "    return df"
   ]
  },
  {
   "cell_type": "code",
   "execution_count": null,
   "id": "ce85b290",
   "metadata": {},
   "outputs": [],
   "source": [
    "n = []\n",
    "seuils = []\n",
    "for ind in range(0, 10):\n",
    "    seuil = ind/10\n",
    "    dfi = TraitementValeursManquantes(df_best, threshold=seuil, display=False)\n",
    "    n.append(dfi.shape)\n",
    "    seuils.append(seuil)\n",
    "print(n)\n",
    "print(seuils)"
   ]
  },
  {
   "cell_type": "code",
   "execution_count": null,
   "id": "037ecac8",
   "metadata": {
    "colab": {
     "base_uri": "https://localhost:8080/",
     "height": 1000
    },
    "id": "4ff5fdda",
    "outputId": "863131c5-8208-443b-b8d2-e467944f9138",
    "scrolled": true
   },
   "outputs": [],
   "source": [
    "df_nonNa = TraitementValeursManquantes(df_best, threshold=0.2)"
   ]
  },
  {
   "cell_type": "markdown",
   "id": "bce53a34",
   "metadata": {
    "id": "bce53a34"
   },
   "source": [
    "Vérifions que nous n'avons pas de doublons."
   ]
  },
  {
   "cell_type": "code",
   "execution_count": null,
   "id": "86f05283",
   "metadata": {
    "colab": {
     "base_uri": "https://localhost:8080/"
    },
    "id": "86f05283",
    "outputId": "747896d1-da98-4afe-ba8c-f8c67d36ce6e"
   },
   "outputs": [],
   "source": [
    "print('Nous avons', df_nonNa[df_nonNa.duplicated()].shape[0], 'doublons.')"
   ]
  },
  {
   "cell_type": "code",
   "execution_count": null,
   "id": "83d78752",
   "metadata": {},
   "outputs": [],
   "source": [
    "df_clean = df_nonNa.copy()"
   ]
  },
  {
   "cell_type": "code",
   "execution_count": null,
   "id": "8cdfb65b",
   "metadata": {},
   "outputs": [],
   "source": [
    "df_clean.to_csv('df_clean.csv', index=False)"
   ]
  },
  {
   "cell_type": "code",
   "execution_count": null,
   "id": "953cde07",
   "metadata": {},
   "outputs": [],
   "source": [
    "df_clean.head()"
   ]
  },
  {
   "cell_type": "code",
   "execution_count": null,
   "id": "48ac79fd",
   "metadata": {
    "colab": {
     "base_uri": "https://localhost:8080/",
     "height": 358
    },
    "id": "48ac79fd",
    "outputId": "af74eb50-4ca8-4ed1-b4c6-2f0ff1ae253c"
   },
   "outputs": [],
   "source": [
    "def without_hue(plot, feature):\n",
    "    total = len(feature)\n",
    "    for p in ax.patches:\n",
    "        percentage = '{:.1f}%'.format(100 * p.get_height()/total)\n",
    "        x = p.get_x() + p.get_width() / 2 - 0.05\n",
    "        y = p.get_y() + p.get_height()\n",
    "        ax.annotate(percentage, (x, y), size=12)\n",
    "    plt.show()\n",
    "\n",
    "\n",
    "fig = plt.figure(figsize=(8, 5))\n",
    "ax = sns.barplot(x=df_clean['TARGET'].value_counts().index,\n",
    "                 y=df_clean['TARGET'].value_counts().values)\n",
    "plt.title('Nombre d\\'occurences par valeur de la variable cible')\n",
    "plt.xlabel('Valeur de la variable cible', fontsize=20)\n",
    "plt.ylabel('Nombre d\\'occurences', fontsize=15)\n",
    "plt.tick_params(axis='both', which='major', labelsize=15)\n",
    "\n",
    "without_hue(ax, df_clean['TARGET'])"
   ]
  },
  {
   "cell_type": "markdown",
   "id": "9c9c033d",
   "metadata": {
    "id": "9c9c033d"
   },
   "source": [
    "La variable ```TARGET``` est notre variable cible. Elle vaut 1 lorsque le client a des difficultés de paiement (il a payé en retard d'au moins X jours au moins une fois dans les Y premiers remboursements du prêt) et 0 sinon."
   ]
  },
  {
   "cell_type": "markdown",
   "id": "572c0e2d",
   "metadata": {
    "id": "572c0e2d"
   },
   "source": [
    "## Séparation en sous-ensemble d'entraînement et de test"
   ]
  },
  {
   "cell_type": "code",
   "execution_count": null,
   "id": "e9fe4885",
   "metadata": {
    "colab": {
     "base_uri": "https://localhost:8080/"
    },
    "id": "e9fe4885",
    "outputId": "02bad23c-789d-441b-f0d0-9039399cda4c"
   },
   "outputs": [],
   "source": [
    "df_clean.shape"
   ]
  },
  {
   "cell_type": "code",
   "execution_count": null,
   "id": "6ff9dec8",
   "metadata": {
    "id": "6ff9dec8"
   },
   "outputs": [],
   "source": [
    "X = df_clean.loc[:, df_clean.columns != 'TARGET']\n",
    "y = 1 - df_clean['TARGET']\n",
    "X_train, X_test, y_train, y_test = train_test_split(\n",
    "    X, y, test_size=0.2, random_state=42)"
   ]
  },
  {
   "cell_type": "code",
   "execution_count": null,
   "id": "7bb5f97b",
   "metadata": {
    "colab": {
     "base_uri": "https://localhost:8080/"
    },
    "id": "7bb5f97b",
    "outputId": "9c62a88c-6df0-4f42-9a59-f1fee1ca8e6f"
   },
   "outputs": [],
   "source": [
    "print(X_train.shape)\n",
    "print(X_test.shape)\n",
    "print(y_train.shape)\n",
    "print(y_test.shape)"
   ]
  },
  {
   "cell_type": "markdown",
   "id": "e662dd33",
   "metadata": {
    "id": "e662dd33"
   },
   "source": [
    "## Normalisation"
   ]
  },
  {
   "cell_type": "code",
   "execution_count": null,
   "id": "11aa13b6",
   "metadata": {
    "id": "11aa13b6"
   },
   "outputs": [],
   "source": [
    "std_scale_X = preprocessing.StandardScaler().fit(X_train)\n",
    "X_train_std = std_scale_X.transform(X_train)\n",
    "X_test_std = std_scale_X.transform(X_test)"
   ]
  },
  {
   "cell_type": "markdown",
   "id": "6e2fc9c9",
   "metadata": {
    "id": "6e2fc9c9"
   },
   "source": [
    "## Modélisation"
   ]
  },
  {
   "cell_type": "code",
   "execution_count": null,
   "id": "9543225a",
   "metadata": {
    "id": "9543225a"
   },
   "outputs": [],
   "source": [
    "def RSE(y_test, predictions):\n",
    "    y_barre = np.mean(y_test)\n",
    "    RSE = sum((y_test - predictions)**2)/sum((y_test - y_barre)**2)\n",
    "    return RSE\n",
    "\n",
    "\n",
    "def Performances(y_test, predictions, seuil=0.5):\n",
    "    scores = []\n",
    "\n",
    "    # RMSE et MSE\n",
    "    MSE = mean_squared_error(y_test, predictions, squared=True)\n",
    "    print('RMSE = {:.2f}'.format(MSE**(1/2)))\n",
    "    print('MSE = {:.2f}'.format(MSE))\n",
    "    scores.append(MSE**(1/2))\n",
    "    scores.append(MSE)\n",
    "\n",
    "    # RSE\n",
    "    RSE_ = RSE(y_test, predictions)\n",
    "    print('RSE = {:.2f}'.format(RSE_))\n",
    "    scores.append(RSE_)\n",
    "\n",
    "    # ROC AUC score\n",
    "    ROC_AUC = roc_auc_score(y_test, predictions)\n",
    "    print('ROC_AUC = {:.2f}'.format(ROC_AUC))\n",
    "    scores.append(ROC_AUC)\n",
    "\n",
    "    # Courbe ROC\n",
    "    [fpr, tpr, thr] = roc_curve(y_test, predictions)\n",
    "    scores.append([fpr, tpr, thr])\n",
    "    plt.plot(fpr, tpr, color='coral', lw=2, label='Classifier')\n",
    "    plt.plot([0, 1], [0, 1], linestyle='--', label='No Skill')\n",
    "    plt.xlim([0.0, 1.0])\n",
    "    plt.ylim([0.0, 1.01])\n",
    "    plt.xlabel('1 - Spécificité', fontsize=14)\n",
    "    plt.ylabel('Sensibilité', fontsize=14)\n",
    "    plt.show()\n",
    "\n",
    "    y_pred = pd.Series(predictions).apply(lambda x: 1 if x >= seuil else 0)\n",
    "    # Matrice de confusion\n",
    "    cmap = 'PuRd'\n",
    "    pp_matrix_from_data(y_test, y_pred)\n",
    "\n",
    "    # Rappel et précision\n",
    "    Recall = recall_score(y_test, y_pred)\n",
    "    Precision = precision_score(y_test, y_pred)\n",
    "    print('Recall = {:.2f}'.format(Recall))\n",
    "    print('Precision = {:.2f}'.format(Precision))\n",
    "    scores.append(Recall)\n",
    "    scores.append(Precision)\n",
    "\n",
    "    # F1-score\n",
    "    F1 = f1_score(y_test, y_pred)\n",
    "    print('Score F1 = {:.2f}'.format(F1))\n",
    "    scores.append(F1)\n",
    "\n",
    "    return scores"
   ]
  },
  {
   "cell_type": "markdown",
   "id": "7df8d12f",
   "metadata": {
    "id": "7df8d12f"
   },
   "source": [
    "1. DummyClassifier\n",
    "2. RandomForestRegressor\n",
    "3. LGBM\n",
    "4. XGBoost\n",
    "5. Logistic Regression"
   ]
  },
  {
   "cell_type": "markdown",
   "id": "5e983111",
   "metadata": {
    "id": "5e983111"
   },
   "source": [
    "### Dummy Classifier"
   ]
  },
  {
   "cell_type": "code",
   "execution_count": null,
   "id": "334405be",
   "metadata": {
    "colab": {
     "base_uri": "https://localhost:8080/"
    },
    "id": "334405be",
    "outputId": "be982034-9e18-4776-b86e-b8144f07152c"
   },
   "outputs": [],
   "source": [
    "np.random.seed(5)\n",
    "param_dummy = {'strategy':\n",
    "               ['most_frequent', 'stratified', 'uniform', 'constant']}\n",
    "cv_strat = StratifiedKFold(n_splits=10, shuffle=True, random_state=45)\n",
    "\n",
    "dummy = GridSearchCV(DummyClassifier(random_state=0),\n",
    "                     param_grid=param_dummy,\n",
    "                     verbose=2,\n",
    "                     scoring='roc_auc',\n",
    "                     cv=cv_strat,\n",
    "                     return_train_score=True,\n",
    "                     n_jobs=-1)\n",
    "\n",
    "dummy.fit(X_train, y_train)\n",
    "prediction_dummy = dummy.predict_proba(X_test)\n",
    "\n",
    "print('Meilleurs hyperparamètres : ' + str(dummy.best_params_))\n",
    "\n",
    "fit_time_dummy = dummy.cv_results_['mean_fit_time'].mean()\n",
    "pred_time_dummy = dummy.cv_results_['mean_score_time'].mean()\n",
    "print('Temps écoulé pour l\\'entraînement = {:.2f}s'.format(fit_time_dummy))\n",
    "print('Temps écoulé pour la prédiction = {:.2f}s'.format(pred_time_dummy))"
   ]
  },
  {
   "cell_type": "code",
   "execution_count": null,
   "id": "43d72f61",
   "metadata": {
    "colab": {
     "base_uri": "https://localhost:8080/",
     "height": 401
    },
    "id": "43d72f61",
    "outputId": "688f5372-a634-4c52-8890-f75d24b567e1"
   },
   "outputs": [],
   "source": [
    "perf_dummy = Performances(y_test, prediction_dummy[:, 1])"
   ]
  },
  {
   "cell_type": "markdown",
   "id": "356cd58e",
   "metadata": {
    "id": "356cd58e"
   },
   "source": [
    "### Random Forest"
   ]
  },
  {
   "cell_type": "code",
   "execution_count": null,
   "id": "87eb660e",
   "metadata": {
    "colab": {
     "base_uri": "https://localhost:8080/"
    },
    "id": "5e741c47",
    "outputId": "b94e8b61-3879-4d27-be9c-20e6eb46ef97"
   },
   "outputs": [],
   "source": [
    "param_RF = {'n_estimators': [120, 140],\n",
    "            'max_depth': [30, 50],\n",
    "            'min_samples_split': [2, 3],\n",
    "            'min_samples_leaf': [3, 5],\n",
    "            'class_weight':\n",
    "            [{0: 1, 1: 1}, {0: 1, 1: 5}, {0: 1, 1: 3}, 'balanced']\n",
    "            }\n",
    "\n",
    "RF = GridSearchCV(RandomForestClassifier(random_state=0),\n",
    "                  param_grid=param_RF,\n",
    "                  scoring='roc_auc',\n",
    "                  verbose=2,\n",
    "                  cv=cv_strat,\n",
    "                  return_train_score=True,\n",
    "                  n_jobs=-1)\n",
    "\n",
    "RF.fit(X_train, y_train)\n",
    "prediction_RF = RF.predict_proba(X_test)\n",
    "print('Meilleurs hyperparamètres : ' + str(RF.best_params_))\n",
    "\n",
    "fit_time_RF = RF.cv_results_['mean_fit_time'].mean()\n",
    "pred_time_RF = RF.cv_results_['mean_score_time'].mean()\n",
    "print('Temps écoulé pour l\\'entraînement = {:.2f}s'.format(fit_time_RF))\n",
    "print('Temps écoulé pour la prédiction = {:.2f}s'.format(pred_time_RF))"
   ]
  },
  {
   "cell_type": "code",
   "execution_count": null,
   "id": "124d36c8",
   "metadata": {
    "colab": {
     "base_uri": "https://localhost:8080/",
     "height": 401
    },
    "id": "124d36c8",
    "outputId": "443e927c-c935-4b30-a8f8-5baecfb8235c"
   },
   "outputs": [],
   "source": [
    "perf_RF = Performances(y_test, prediction_RF[:, 1])"
   ]
  },
  {
   "cell_type": "markdown",
   "id": "d07e7830",
   "metadata": {
    "id": "d07e7830"
   },
   "source": [
    "### LightGBM"
   ]
  },
  {
   "cell_type": "code",
   "execution_count": null,
   "id": "f8f659cc",
   "metadata": {
    "colab": {
     "base_uri": "https://localhost:8080/"
    },
    "id": "f8f659cc",
    "outputId": "2f735186-c072-4ac7-bb49-dcca522b7c05"
   },
   "outputs": [],
   "source": [
    "param_LGBM = {'max_depth': [5, 10, 15],\n",
    "              'learning_rate': [0.1, 0.15, 0.3],\n",
    "              'num_leaves': [32, 150, 200],\n",
    "              'n_estimators': [300, 400],\n",
    "              'class_weight':\n",
    "              [{0: 1, 1: 1}, {0: 1, 1: 5}, {0: 1, 1: 3}, 'balanced']}\n",
    "\n",
    "LGBM = GridSearchCV(LGBMClassifier(random_state=0),\n",
    "                    param_grid=param_LGBM,\n",
    "                    scoring='roc_auc',\n",
    "                    verbose=2,\n",
    "                    cv=cv_strat,\n",
    "                    return_train_score=True,\n",
    "                    n_jobs=-1)\n",
    "\n",
    "LGBM.fit(X_train, y_train)\n",
    "prediction_LGBM = LGBM.predict_proba(X_test)\n",
    "\n",
    "print('Meilleurs hyperparamètres : ' + str(LGBM.best_params_))\n",
    "\n",
    "fit_time_LGBM = LGBM.cv_results_['mean_fit_time'].mean()\n",
    "pred_time_LGBM = LGBM.cv_results_['mean_score_time'].mean()\n",
    "print('Temps écoulé pour l\\'entraînement = {:.2f}s'.format(fit_time_LGBM))\n",
    "print('Temps écoulé pour la prédiction = {:.2f}s'.format(pred_time_LGBM))"
   ]
  },
  {
   "cell_type": "code",
   "execution_count": null,
   "id": "660f1d32",
   "metadata": {
    "colab": {
     "base_uri": "https://localhost:8080/",
     "height": 401
    },
    "id": "660f1d32",
    "outputId": "44a8faa5-4852-4b37-8196-d808c4ff5607"
   },
   "outputs": [],
   "source": [
    "perf_LGBM = Performances(y_test, prediction_LGBM[:, 1])"
   ]
  },
  {
   "cell_type": "markdown",
   "id": "78b0245e",
   "metadata": {
    "id": "78b0245e"
   },
   "source": [
    "### XGBoost"
   ]
  },
  {
   "cell_type": "code",
   "execution_count": null,
   "id": "7e48331a",
   "metadata": {
    "colab": {
     "base_uri": "https://localhost:8080/"
    },
    "id": "7e48331a",
    "outputId": "83dcecf4-ef56-43f1-d8b3-342f8b9bc858"
   },
   "outputs": [],
   "source": [
    "param_XGB = {'max_depth': range(2, 10, 1),\n",
    "             'n_estimators': range(60, 220, 40),\n",
    "             'learning_rate': [0.1, 0.01, 0.05],\n",
    "             'scale_pos_weight':\n",
    "             [{0: 1, 1: 1}, {0: 1, 1: 5}, {0: 1, 1: 3}, 'balanced']}\n",
    "\n",
    "XGB = GridSearchCV(XGBClassifier(random_state=0),\n",
    "                   param_grid=param_XGB,\n",
    "                   scoring='roc_auc',\n",
    "                   verbose=2,\n",
    "                   cv=cv_strat,\n",
    "                   return_train_score=True,\n",
    "                   n_jobs=-1)\n",
    "\n",
    "XGB.fit(X_train, y_train)\n",
    "prediction_XGB = XGB.predict_proba(X_test)\n",
    "\n",
    "print('Meilleurs hyperparamètres : ' + str(XGB.best_params_))\n",
    "\n",
    "fit_time_XGB = XGB.cv_results_['mean_fit_time'].mean()\n",
    "pred_time_XGB = XGB.cv_results_['mean_score_time'].mean()\n",
    "print('Temps écoulé pour l\\'entraînement = {:.2f}s'.format(fit_time_XGB))\n",
    "print('Temps écoulé pour la prédiction = {:.2f}s'.format(pred_time_XGB))"
   ]
  },
  {
   "cell_type": "code",
   "execution_count": null,
   "id": "c11459b8",
   "metadata": {
    "colab": {
     "base_uri": "https://localhost:8080/",
     "height": 401
    },
    "id": "c11459b8",
    "outputId": "3023052d-aca9-4d18-9bee-ab111bf8d59b"
   },
   "outputs": [],
   "source": [
    "perf_XGB = Performances(y_test, prediction_XGB[:, 1])"
   ]
  },
  {
   "cell_type": "markdown",
   "id": "5d2b3bbc",
   "metadata": {
    "id": "5d2b3bbc"
   },
   "source": [
    "### Logistic Regression"
   ]
  },
  {
   "cell_type": "code",
   "execution_count": null,
   "id": "494f9b77",
   "metadata": {
    "colab": {
     "base_uri": "https://localhost:8080/"
    },
    "id": "494f9b77",
    "outputId": "99b7f4a4-ebf3-4e85-ac8e-fc45acf38c86"
   },
   "outputs": [],
   "source": [
    "param_Logistic = {'C': np.logspace(-3, 3, 7),\n",
    "                  'penalty': ['none', 'l2'],\n",
    "                  'class_weight':\n",
    "                  [{0: 1, 1: 1}, {0: 1, 1: 5}, {0: 1, 1: 3}, 'balanced']}\n",
    "\n",
    "Logistic = GridSearchCV(LogisticRegression(random_state=0),\n",
    "                        param_grid=param_Logistic,\n",
    "                        scoring='roc_auc',\n",
    "                        verbose=2,\n",
    "                        cv=cv_strat,\n",
    "                        return_train_score=True,\n",
    "                        n_jobs=-1)\n",
    "\n",
    "Logistic.fit(X_train, y_train)\n",
    "prediction_Logistic = Logistic.predict_proba(X_test)\n",
    "\n",
    "print('Meilleurs hyperparamètres : ' + str(Logistic.best_params_))\n",
    "\n",
    "fit_time_Logistic = Logistic.cv_results_['mean_fit_time'].mean()\n",
    "pred_time_Logistic = Logistic.cv_results_['mean_score_time'].mean()\n",
    "print('Temps écoulé pour l\\'entraînement = {:.2f}s'.format(fit_time_Logistic))\n",
    "print('Temps écoulé pour la prédiction = {:.2f}s'.format(pred_time_Logistic))"
   ]
  },
  {
   "cell_type": "code",
   "execution_count": null,
   "id": "97399363",
   "metadata": {
    "colab": {
     "base_uri": "https://localhost:8080/",
     "height": 401
    },
    "id": "97399363",
    "outputId": "f9eca01d-57f8-48e6-9f64-41dfce2a18e5"
   },
   "outputs": [],
   "source": [
    "perf_Logistic = Performances(y_test, prediction_Logistic[:, 1])"
   ]
  },
  {
   "cell_type": "markdown",
   "id": "2ea78296",
   "metadata": {
    "id": "2ea78296"
   },
   "source": [
    "### Comparaison des performances"
   ]
  },
  {
   "cell_type": "code",
   "execution_count": null,
   "id": "28af1d3a",
   "metadata": {
    "colab": {
     "base_uri": "https://localhost:8080/",
     "height": 527
    },
    "id": "28af1d3a",
    "outputId": "c4b6d46e-852c-4acf-93b6-a7d38911f910"
   },
   "outputs": [],
   "source": [
    "listePerf = [perf_dummy, perf_RF, perf_LGBM,\n",
    "             perf_XGB, perf_Logistic]\n",
    "listeAUC = [perf[3] for perf in listePerf]\n",
    "listeF1 = [perf[7] for perf in listePerf]\n",
    "listeModeles = ['Dummy Classifier', 'Random Forest', 'LGBM',\n",
    "                'XGBoost', 'Logistic Regression']\n",
    "score = pd.DataFrame()\n",
    "score['Modèle'] = listeModeles\n",
    "score['AUC'] = listeAUC\n",
    "score['F1'] = listeF1\n",
    "\n",
    "fig = plt.figure(figsize=(12, 8))\n",
    "ax = sns.barplot(x='Modèle', y='AUC', data=score)\n",
    "for i in ax.containers:\n",
    "    ax.bar_label(i,)\n",
    "plt.title('Score AUC des différents modèles testés',\n",
    "          fontsize=20)\n",
    "plt.xlabel('Les différents modèles testés', fontsize=20)\n",
    "plt.ylabel('Score AUC', fontsize=15)\n",
    "plt.tick_params(axis='both', which='major', labelsize=15)\n",
    "plt.show()"
   ]
  },
  {
   "cell_type": "code",
   "execution_count": null,
   "id": "a9f3f742",
   "metadata": {
    "colab": {
     "base_uri": "https://localhost:8080/",
     "height": 280
    },
    "id": "a9f3f742",
    "outputId": "a37501b5-3560-417f-dd2e-68cbf39b20ef"
   },
   "outputs": [],
   "source": [
    "for perf in listePerf:\n",
    "    [fpr, tpr, thr] = perf[4]\n",
    "    plt.plot(fpr, tpr, lw=2)\n",
    "plt.legend(listeModeles)\n",
    "plt.xlim([0.0, 1.0])\n",
    "plt.ylim([0.0, 1.05])\n",
    "plt.xlabel('1 - Spécificité', fontsize=14)\n",
    "plt.ylabel('Sensibilité', fontsize=14)\n",
    "plt.show()"
   ]
  },
  {
   "cell_type": "markdown",
   "id": "ac5d6e17",
   "metadata": {},
   "source": [
    "### SMOTE + GridSearch"
   ]
  },
  {
   "cell_type": "code",
   "execution_count": 45,
   "id": "890ef574",
   "metadata": {
    "colab": {
     "base_uri": "https://localhost:8080/"
    },
    "id": "494f9b77",
    "outputId": "99b7f4a4-ebf3-4e85-ac8e-fc45acf38c86"
   },
   "outputs": [
    {
     "name": "stdout",
     "output_type": "stream",
     "text": [
      "Fitting 10 folds for each of 14 candidates, totalling 140 fits\n",
      "Meilleurs hyperparamètres : {'C': 0.01, 'penalty': 'l2'}\n",
      "Temps écoulé pour l'entraînement = 1.16s\n",
      "Temps écoulé pour la prédiction = 0.01s\n"
     ]
    }
   ],
   "source": [
    "param_Logistic = {'C': np.logspace(-3, 3, 7), 'penalty': ['none', 'l2']}\n",
    "Logistic2 = GridSearchCV(LogisticRegression(random_state=0),\n",
    "                         param_grid=param_Logistic,\n",
    "                         scoring='roc_auc',\n",
    "                         verbose=2,\n",
    "                         cv=cv_strat,\n",
    "                         return_train_score=True,\n",
    "                         n_jobs=-1)\n",
    "\n",
    "Logistic2.fit(X_train, y_train)\n",
    "prediction_Logistic2 = Logistic2.predict_proba(X_test)\n",
    "\n",
    "print('Meilleurs hyperparamètres : ' + str(Logistic2.best_params_))\n",
    "\n",
    "fit_time_Logistic2 = Logistic2.cv_results_['mean_fit_time'].mean()\n",
    "pred_time_Logistic2 = Logistic2.cv_results_['mean_score_time'].mean()\n",
    "print('Temps écoulé pour l\\'entraînement = {:.2f}s'.format(fit_time_Logistic2))\n",
    "print('Temps écoulé pour la prédiction = {:.2f}s'.format(pred_time_Logistic2))"
   ]
  },
  {
   "cell_type": "code",
   "execution_count": 44,
   "id": "fbe0aa81",
   "metadata": {
    "colab": {
     "base_uri": "https://localhost:8080/",
     "height": 401
    },
    "id": "97399363",
    "outputId": "f9eca01d-57f8-48e6-9f64-41dfce2a18e5"
   },
   "outputs": [
    {
     "name": "stdout",
     "output_type": "stream",
     "text": [
      "RMSE = 0.26\n",
      "MSE = 0.07\n",
      "RSE = 1.00\n",
      "ROC_AUC = 0.59\n"
     ]
    },
    {
     "data": {
      "image/png": "[encoded data removed]",
      "text/plain": [
       "<Figure size 432x288 with 1 Axes>"
      ]
     },
     "metadata": {},
     "output_type": "display_data"
    }
   ],
   "source": [
    "perf_Logistic2 = Performances(y_test, prediction_Logistic2[:, 1])"
   ]
  },
  {
   "cell_type": "code",
   "execution_count": null,
   "id": "809c95c5",
   "metadata": {},
   "outputs": [],
   "source": []
  },
  {
   "cell_type": "code",
   "execution_count": null,
   "id": "f6598918",
   "metadata": {},
   "outputs": [],
   "source": []
  },
  {
   "cell_type": "markdown",
   "id": "58b0b01a",
   "metadata": {},
   "source": [
    "### SMOTE SE + GridSearch"
   ]
  },
  {
   "cell_type": "code",
   "execution_count": null,
   "id": "162fc1dd",
   "metadata": {},
   "outputs": [],
   "source": []
  }
 ],
 "metadata": {
  "colab": {
   "collapsed_sections": [],
   "name": "P7_01_Notebook.ipynb",
   "provenance": []
  },
  "kernelspec": {
   "display_name": "Python 3 (ipykernel)",
   "language": "python",
   "name": "python3"
  },
  "language_info": {
   "codemirror_mode": {
    "name": "ipython",
    "version": 3
   },
   "file_extension": ".py",
   "mimetype": "text/x-python",
   "name": "python",
   "nbconvert_exporter": "python",
   "pygments_lexer": "ipython3",
   "version": "3.9.7"
  }
 },
 "nbformat": 4,
 "nbformat_minor": 5
}
