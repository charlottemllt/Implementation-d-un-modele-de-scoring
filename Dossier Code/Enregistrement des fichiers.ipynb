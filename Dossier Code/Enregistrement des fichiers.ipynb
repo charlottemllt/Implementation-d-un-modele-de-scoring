{
 "cells": [
  {
   "cell_type": "code",
   "execution_count": 1,
   "metadata": {},
   "outputs": [
    {
     "name": "stderr",
     "output_type": "stream",
     "text": [
      "c:\\Users\\charl\\anaconda3\\lib\\site-packages\\numpy\\_distributor_init.py:30: UserWarning: loaded more than 1 DLL from .libs:\n",
      "c:\\Users\\charl\\anaconda3\\lib\\site-packages\\numpy\\.libs\\libopenblas.EL2C6PLE4ZYW3ECEVIV3OXXGRN2NRFM2.gfortran-win_amd64.dll\n",
      "c:\\Users\\charl\\anaconda3\\lib\\site-packages\\numpy\\.libs\\libopenblas.FB5AE2TYXYH2IJRDKGDGQ3XBKLKTF43H.gfortran-win_amd64.dll\n",
      "c:\\Users\\charl\\anaconda3\\lib\\site-packages\\numpy\\.libs\\libopenblas.GK7GX5KEQ4F6UYO3P26ULGBQYHGQO7J4.gfortran-win_amd64.dll\n",
      "c:\\Users\\charl\\anaconda3\\lib\\site-packages\\numpy\\.libs\\libopenblas.XWYDX2IKJW2NMTWSFYNGFUWKQU3LYTCZ.gfortran-win_amd64.dll\n",
      "  warnings.warn(\"loaded more than 1 DLL from .libs:\"\n"
     ]
    }
   ],
   "source": [
    "import pandas as pd"
   ]
  },
  {
   "cell_type": "markdown",
   "metadata": {},
   "source": [
    "## Fichier pour l'API\n",
    "Données de test après preprocessing (sans le score)"
   ]
  },
  {
   "cell_type": "code",
   "execution_count": 2,
   "metadata": {},
   "outputs": [],
   "source": [
    "df_API = pd.read_csv('../df_API.csv')\n",
    "df_API_lite = df_API.sample(n=int(df_API.shape[0]*0.6), random_state=8)\n",
    "df_API_lite.to_csv('../API/df_API_lite.csv', index=False)\n",
    "df_API_lite.to_csv('../Streamlit/df_API_lite.csv', index=False)"
   ]
  },
  {
   "cell_type": "markdown",
   "metadata": {},
   "source": [
    "## Fichiers pour le dashboard\n",
    "1. Données de test avant preprocessing pour affichage des caractéristiques (sans le score)"
   ]
  },
  {
   "cell_type": "code",
   "execution_count": 3,
   "metadata": {},
   "outputs": [],
   "source": [
    "liste_colonnes = ['SK_ID_CURR', 'DAYS_BIRTH', 'CODE_GENDER', 'DAYS_EMPLOYED', 'NAME_FAMILY_STATUS_Married', 'FLAG_OWN_CAR',\n",
    "                  'NAME_EDUCATION_TYPE_Highereducation', 'AMT_GOODS_PRICE', 'AMT_CREDIT', 'PAYMENT_RATE', 'AMT_ANNUITY',\n",
    "                  'EXT_SOURCE_2', 'EXT_SOURCE_3', 'INCOME_PER_PERSON', 'CNT_FAM_MEMBERS', 'AMT_INCOME_TOTAL']"
   ]
  },
  {
   "cell_type": "code",
   "execution_count": 4,
   "metadata": {},
   "outputs": [
    {
     "name": "stdout",
     "output_type": "stream",
     "text": [
      "(39470, 16)\n",
      "(23682, 16)\n"
     ]
    }
   ],
   "source": [
    "df_dashboard = pd.read_csv('../df_dashboard.csv')[liste_colonnes]\n",
    "print(df_dashboard.shape)\n",
    "df_dashboard_lite = df_dashboard[df_dashboard['SK_ID_CURR'].isin(df_API_lite['SK_ID_CURR'])]\n",
    "print(df_dashboard_lite.shape)"
   ]
  },
  {
   "cell_type": "code",
   "execution_count": 5,
   "metadata": {},
   "outputs": [],
   "source": [
    "df_dashboard_lite.to_csv('../Streamlit/df_dashboard_lite.csv', index=False)"
   ]
  },
  {
   "cell_type": "markdown",
   "metadata": {},
   "source": [
    "2. Données d'entraînement avant preprocessing pour comparaison (avec le score)"
   ]
  },
  {
   "cell_type": "code",
   "execution_count": 6,
   "metadata": {},
   "outputs": [],
   "source": [
    "liste_colonnes2 = liste_colonnes\n",
    "liste_colonnes2.extend(['TARGET', 'Score'])"
   ]
  },
  {
   "cell_type": "code",
   "execution_count": 20,
   "metadata": {},
   "outputs": [],
   "source": [
    "df_dashboard_comp = pd.read_csv('../df_comp.csv')[liste_colonnes2]\n",
    "N = int(df_dashboard_comp.shape[0]*0.2)\n",
    "df_comp_lite = df_dashboard_comp.sample(n=N)\n",
    "df_comp_lite.to_csv('../Streamlit/df_comp_lite.csv', index=False)"
   ]
  },
  {
   "cell_type": "code",
   "execution_count": 21,
   "metadata": {},
   "outputs": [
    {
     "name": "stdout",
     "output_type": "stream",
     "text": [
      "Counter({1: 230298, 0: 21835})\n",
      "Counter({1: 138257, 0: 13022})\n"
     ]
    }
   ],
   "source": [
    "from collections import Counter\n",
    "print(Counter(df_dashboard_comp['TARGET']))\n",
    "print(Counter(df_comp_lite['TARGET']))"
   ]
  },
  {
   "cell_type": "markdown",
   "metadata": {},
   "source": [
    "2. bis. Données de test avant preprocessing pour comparaison (avec le score)"
   ]
  }
 ],
 "metadata": {
  "kernelspec": {
   "display_name": "Python 3.9.7 ('base')",
   "language": "python",
   "name": "python3"
  },
  "language_info": {
   "codemirror_mode": {
    "name": "ipython",
    "version": 3
   },
   "file_extension": ".py",
   "mimetype": "text/x-python",
   "name": "python",
   "nbconvert_exporter": "python",
   "pygments_lexer": "ipython3",
   "version": "3.9.7"
  },
  "orig_nbformat": 4,
  "vscode": {
   "interpreter": {
    "hash": "16196ea7eff63910081d4e10ae1bdb1eb18fd83cb470bb8efbb9fa6b0c724af5"
   }
  }
 },
 "nbformat": 4,
 "nbformat_minor": 2
}
