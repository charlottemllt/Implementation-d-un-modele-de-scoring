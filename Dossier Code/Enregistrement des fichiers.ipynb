{
 "cells": [
  {
   "cell_type": "code",
   "execution_count": 8,
   "metadata": {},
   "outputs": [],
   "source": [
    "import pandas as pd"
   ]
  },
  {
   "cell_type": "markdown",
   "metadata": {},
   "source": [
    "## Fichier pour l'API\n",
    "Données de test après preprocessing (sans le score)"
   ]
  },
  {
   "cell_type": "code",
   "execution_count": 9,
   "metadata": {},
   "outputs": [
    {
     "name": "stdout",
     "output_type": "stream",
     "text": [
      "(39470, 516)\n",
      "27629.0\n"
     ]
    }
   ],
   "source": [
    "df_API = pd.read_csv('../df_API.csv')\n",
    "print(df_API.shape)\n",
    "print(df_API.shape[0]*0.7)\n",
    "df_API_lite = df_API.sample(n=int(df_API.shape[0]*0.6), random_state=8)\n",
    "df_API_lite.to_csv('../API/df_API_lite.csv', index=False)\n",
    "df_API_lite.to_csv('../Streamlit/df_API_lite.csv', index=False)"
   ]
  },
  {
   "cell_type": "markdown",
   "metadata": {},
   "source": [
    "## Fichiers pour le dashboard\n",
    "1. Données de test avant preprocessing pour affichage des caractéristiques (sans le score)"
   ]
  },
  {
   "cell_type": "code",
   "execution_count": 10,
   "metadata": {},
   "outputs": [
    {
     "name": "stdout",
     "output_type": "stream",
     "text": [
      "(39470, 516)\n",
      "(23682, 516)\n"
     ]
    }
   ],
   "source": [
    "df_dashboard = pd.read_csv('../df_dashboard.csv')\n",
    "print(df_dashboard.shape)\n",
    "df_dashboard_lite = df_dashboard[df_dashboard['SK_ID_CURR'].isin(df_API_lite['SK_ID_CURR'])]\n",
    "print(df_dashboard_lite.shape)"
   ]
  },
  {
   "cell_type": "code",
   "execution_count": 11,
   "metadata": {},
   "outputs": [],
   "source": [
    "df_dashboard_lite.to_csv('../Streamlit/df_dashboard_lite.csv', index=False)"
   ]
  },
  {
   "cell_type": "markdown",
   "metadata": {},
   "source": [
    "2. Données d'entraînement avant preprocessing pour comparaison (avec le score)"
   ]
  },
  {
   "cell_type": "code",
   "execution_count": 12,
   "metadata": {},
   "outputs": [],
   "source": [
    "#df_dashboard_comp = pd.read_csv('../df_comp.csv')"
   ]
  },
  {
   "cell_type": "markdown",
   "metadata": {},
   "source": [
    "2. bis. Données de test avant preprocessing pour comparaison (avec le score)"
   ]
  }
 ],
 "metadata": {
  "kernelspec": {
   "display_name": "Python 3.9.7 ('base')",
   "language": "python",
   "name": "python3"
  },
  "language_info": {
   "codemirror_mode": {
    "name": "ipython",
    "version": 3
   },
   "file_extension": ".py",
   "mimetype": "text/x-python",
   "name": "python",
   "nbconvert_exporter": "python",
   "pygments_lexer": "ipython3",
   "version": "3.9.7"
  },
  "orig_nbformat": 4,
  "vscode": {
   "interpreter": {
    "hash": "16196ea7eff63910081d4e10ae1bdb1eb18fd83cb470bb8efbb9fa6b0c724af5"
   }
  }
 },
 "nbformat": 4,
 "nbformat_minor": 2
}
